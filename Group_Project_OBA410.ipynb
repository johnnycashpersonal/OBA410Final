{
  "cells": [
    {
      "cell_type": "code",
      "execution_count": null,
      "id": "64975b7e",
      "metadata": {
        "id": "64975b7e"
      },
      "outputs": [],
      "source": [
        "#packages\n",
        "import pandas as pd\n",
        "import numpy as np\n",
        "from sklearn.neighbors import KNeighborsClassifier, KNeighborsRegressor\n",
        "from sklearn.model_selection import train_test_split, cross_val_score,validation_curve\n",
        "from sklearn.base import ClassifierMixin\n",
        "from sklearn.linear_model import LogisticRegression\n",
        "from sklearn.preprocessing import MinMaxScaler\n",
        "from sklearn.ensemble import RandomForestClassifier"
      ]
    },
    {
      "cell_type": "code",
      "execution_count": null,
      "id": "f685a1b0",
      "metadata": {
        "id": "f685a1b0",
        "outputId": "8c410abb-1172-4a1b-cfe4-292fdccc42cc"
      },
      "outputs": [
        {
          "data": {
            "text/html": [
              "<div>\n",
              "<style scoped>\n",
              "    .dataframe tbody tr th:only-of-type {\n",
              "        vertical-align: middle;\n",
              "    }\n",
              "\n",
              "    .dataframe tbody tr th {\n",
              "        vertical-align: top;\n",
              "    }\n",
              "\n",
              "    .dataframe thead th {\n",
              "        text-align: right;\n",
              "    }\n",
              "</style>\n",
              "<table border=\"1\" class=\"dataframe\">\n",
              "  <thead>\n",
              "    <tr style=\"text-align: right;\">\n",
              "      <th></th>\n",
              "      <th>gender</th>\n",
              "      <th>age</th>\n",
              "      <th>hypertension</th>\n",
              "      <th>heart_disease</th>\n",
              "      <th>ever_married</th>\n",
              "      <th>work_type</th>\n",
              "      <th>Residence_type</th>\n",
              "      <th>avg_glucose_level</th>\n",
              "      <th>bmi</th>\n",
              "      <th>smoking_status</th>\n",
              "      <th>stroke</th>\n",
              "    </tr>\n",
              "  </thead>\n",
              "  <tbody>\n",
              "    <tr>\n",
              "      <th>0</th>\n",
              "      <td>Male</td>\n",
              "      <td>67.0</td>\n",
              "      <td>0</td>\n",
              "      <td>1</td>\n",
              "      <td>Yes</td>\n",
              "      <td>Private</td>\n",
              "      <td>Urban</td>\n",
              "      <td>228.69</td>\n",
              "      <td>36.6</td>\n",
              "      <td>formerly smoked</td>\n",
              "      <td>1</td>\n",
              "    </tr>\n",
              "    <tr>\n",
              "      <th>1</th>\n",
              "      <td>Male</td>\n",
              "      <td>80.0</td>\n",
              "      <td>0</td>\n",
              "      <td>1</td>\n",
              "      <td>Yes</td>\n",
              "      <td>Private</td>\n",
              "      <td>Rural</td>\n",
              "      <td>105.92</td>\n",
              "      <td>32.5</td>\n",
              "      <td>never smoked</td>\n",
              "      <td>1</td>\n",
              "    </tr>\n",
              "    <tr>\n",
              "      <th>2</th>\n",
              "      <td>Female</td>\n",
              "      <td>49.0</td>\n",
              "      <td>0</td>\n",
              "      <td>0</td>\n",
              "      <td>Yes</td>\n",
              "      <td>Private</td>\n",
              "      <td>Urban</td>\n",
              "      <td>171.23</td>\n",
              "      <td>34.4</td>\n",
              "      <td>smokes</td>\n",
              "      <td>1</td>\n",
              "    </tr>\n",
              "    <tr>\n",
              "      <th>3</th>\n",
              "      <td>Female</td>\n",
              "      <td>79.0</td>\n",
              "      <td>1</td>\n",
              "      <td>0</td>\n",
              "      <td>Yes</td>\n",
              "      <td>Self-employed</td>\n",
              "      <td>Rural</td>\n",
              "      <td>174.12</td>\n",
              "      <td>24.0</td>\n",
              "      <td>never smoked</td>\n",
              "      <td>1</td>\n",
              "    </tr>\n",
              "    <tr>\n",
              "      <th>4</th>\n",
              "      <td>Male</td>\n",
              "      <td>81.0</td>\n",
              "      <td>0</td>\n",
              "      <td>0</td>\n",
              "      <td>Yes</td>\n",
              "      <td>Private</td>\n",
              "      <td>Urban</td>\n",
              "      <td>186.21</td>\n",
              "      <td>29.0</td>\n",
              "      <td>formerly smoked</td>\n",
              "      <td>1</td>\n",
              "    </tr>\n",
              "  </tbody>\n",
              "</table>\n",
              "</div>"
            ],
            "text/plain": [
              "   gender   age  hypertension  heart_disease ever_married      work_type  \\\n",
              "0    Male  67.0             0              1          Yes        Private   \n",
              "1    Male  80.0             0              1          Yes        Private   \n",
              "2  Female  49.0             0              0          Yes        Private   \n",
              "3  Female  79.0             1              0          Yes  Self-employed   \n",
              "4    Male  81.0             0              0          Yes        Private   \n",
              "\n",
              "  Residence_type  avg_glucose_level   bmi   smoking_status  stroke  \n",
              "0          Urban             228.69  36.6  formerly smoked       1  \n",
              "1          Rural             105.92  32.5     never smoked       1  \n",
              "2          Urban             171.23  34.4           smokes       1  \n",
              "3          Rural             174.12  24.0     never smoked       1  \n",
              "4          Urban             186.21  29.0  formerly smoked       1  "
            ]
          },
          "execution_count": 276,
          "metadata": {},
          "output_type": "execute_result"
        }
      ],
      "source": [
        "# data\n",
        "stroke=pd.read_csv('brain_stroke.csv')\n",
        "stroke.head()"
      ]
    },
    {
      "cell_type": "code",
      "execution_count": null,
      "id": "5ef5a3dc",
      "metadata": {
        "id": "5ef5a3dc",
        "outputId": "c1aa3bd3-7394-4a1a-f590-1bfd80fc5973"
      },
      "outputs": [
        {
          "data": {
            "text/plain": [
              "0    4733\n",
              "1     248\n",
              "Name: stroke, dtype: int64"
            ]
          },
          "execution_count": 277,
          "metadata": {},
          "output_type": "execute_result"
        }
      ],
      "source": [
        "stroke.stroke.value_counts()"
      ]
    },
    {
      "cell_type": "code",
      "execution_count": null,
      "id": "4693d3e9",
      "metadata": {
        "id": "4693d3e9"
      },
      "outputs": [],
      "source": [
        "# need to mention we balanced our data in report\n",
        "stroke_bal=stroke.groupby(['stroke'],group_keys=False).apply(lambda x: x.sample(n=1500,replace=True,\n",
        "                                                                                random_state=0))"
      ]
    },
    {
      "cell_type": "code",
      "execution_count": null,
      "id": "7a1b1042",
      "metadata": {
        "id": "7a1b1042",
        "outputId": "640f3201-02ac-46f2-c5c1-7d7dd27dcfd8"
      },
      "outputs": [
        {
          "data": {
            "text/plain": [
              "0    1500\n",
              "1    1500\n",
              "Name: stroke, dtype: int64"
            ]
          },
          "execution_count": 279,
          "metadata": {},
          "output_type": "execute_result"
        }
      ],
      "source": [
        "stroke_bal.stroke.value_counts()"
      ]
    },
    {
      "cell_type": "code",
      "execution_count": null,
      "id": "a62195d1",
      "metadata": {
        "id": "a62195d1",
        "outputId": "2b3ce192-adc9-4f73-a8ce-c430c0ff54c3"
      },
      "outputs": [
        {
          "data": {
            "text/plain": [
              "(3000, 11)"
            ]
          },
          "execution_count": 280,
          "metadata": {},
          "output_type": "execute_result"
        }
      ],
      "source": [
        "stroke_bal.shape"
      ]
    },
    {
      "cell_type": "code",
      "execution_count": null,
      "id": "5d19477c",
      "metadata": {
        "id": "5d19477c",
        "outputId": "46424846-1f71-43d7-84fd-16625c8a7b6e"
      },
      "outputs": [
        {
          "data": {
            "text/html": [
              "<div>\n",
              "<style scoped>\n",
              "    .dataframe tbody tr th:only-of-type {\n",
              "        vertical-align: middle;\n",
              "    }\n",
              "\n",
              "    .dataframe tbody tr th {\n",
              "        vertical-align: top;\n",
              "    }\n",
              "\n",
              "    .dataframe thead th {\n",
              "        text-align: right;\n",
              "    }\n",
              "</style>\n",
              "<table border=\"1\" class=\"dataframe\">\n",
              "  <thead>\n",
              "    <tr style=\"text-align: right;\">\n",
              "      <th></th>\n",
              "      <th>age</th>\n",
              "      <th>hypertension</th>\n",
              "      <th>heart_disease</th>\n",
              "      <th>avg_glucose_level</th>\n",
              "      <th>bmi</th>\n",
              "      <th>stroke</th>\n",
              "    </tr>\n",
              "  </thead>\n",
              "  <tbody>\n",
              "    <tr>\n",
              "      <th>count</th>\n",
              "      <td>3000.000000</td>\n",
              "      <td>3000.000000</td>\n",
              "      <td>3000.000000</td>\n",
              "      <td>3000.000000</td>\n",
              "      <td>3000.0000</td>\n",
              "      <td>3000.000000</td>\n",
              "    </tr>\n",
              "    <tr>\n",
              "      <th>mean</th>\n",
              "      <td>54.911533</td>\n",
              "      <td>0.170333</td>\n",
              "      <td>0.129667</td>\n",
              "      <td>119.777990</td>\n",
              "      <td>29.4121</td>\n",
              "      <td>0.500000</td>\n",
              "    </tr>\n",
              "    <tr>\n",
              "      <th>std</th>\n",
              "      <td>21.856151</td>\n",
              "      <td>0.375988</td>\n",
              "      <td>0.335992</td>\n",
              "      <td>55.908581</td>\n",
              "      <td>6.2465</td>\n",
              "      <td>0.500083</td>\n",
              "    </tr>\n",
              "    <tr>\n",
              "      <th>min</th>\n",
              "      <td>0.240000</td>\n",
              "      <td>0.000000</td>\n",
              "      <td>0.000000</td>\n",
              "      <td>55.120000</td>\n",
              "      <td>14.3000</td>\n",
              "      <td>0.000000</td>\n",
              "    </tr>\n",
              "    <tr>\n",
              "      <th>25%</th>\n",
              "      <td>41.000000</td>\n",
              "      <td>0.000000</td>\n",
              "      <td>0.000000</td>\n",
              "      <td>78.460000</td>\n",
              "      <td>25.4000</td>\n",
              "      <td>0.000000</td>\n",
              "    </tr>\n",
              "    <tr>\n",
              "      <th>50%</th>\n",
              "      <td>59.000000</td>\n",
              "      <td>0.000000</td>\n",
              "      <td>0.000000</td>\n",
              "      <td>97.760000</td>\n",
              "      <td>28.8000</td>\n",
              "      <td>0.500000</td>\n",
              "    </tr>\n",
              "    <tr>\n",
              "      <th>75%</th>\n",
              "      <td>74.000000</td>\n",
              "      <td>0.000000</td>\n",
              "      <td>0.000000</td>\n",
              "      <td>151.160000</td>\n",
              "      <td>32.6000</td>\n",
              "      <td>1.000000</td>\n",
              "    </tr>\n",
              "    <tr>\n",
              "      <th>max</th>\n",
              "      <td>82.000000</td>\n",
              "      <td>1.000000</td>\n",
              "      <td>1.000000</td>\n",
              "      <td>271.740000</td>\n",
              "      <td>48.9000</td>\n",
              "      <td>1.000000</td>\n",
              "    </tr>\n",
              "  </tbody>\n",
              "</table>\n",
              "</div>"
            ],
            "text/plain": [
              "               age  hypertension  heart_disease  avg_glucose_level        bmi  \\\n",
              "count  3000.000000   3000.000000    3000.000000        3000.000000  3000.0000   \n",
              "mean     54.911533      0.170333       0.129667         119.777990    29.4121   \n",
              "std      21.856151      0.375988       0.335992          55.908581     6.2465   \n",
              "min       0.240000      0.000000       0.000000          55.120000    14.3000   \n",
              "25%      41.000000      0.000000       0.000000          78.460000    25.4000   \n",
              "50%      59.000000      0.000000       0.000000          97.760000    28.8000   \n",
              "75%      74.000000      0.000000       0.000000         151.160000    32.6000   \n",
              "max      82.000000      1.000000       1.000000         271.740000    48.9000   \n",
              "\n",
              "            stroke  \n",
              "count  3000.000000  \n",
              "mean      0.500000  \n",
              "std       0.500083  \n",
              "min       0.000000  \n",
              "25%       0.000000  \n",
              "50%       0.500000  \n",
              "75%       1.000000  \n",
              "max       1.000000  "
            ]
          },
          "execution_count": 281,
          "metadata": {},
          "output_type": "execute_result"
        }
      ],
      "source": [
        "stroke_bal.describe()"
      ]
    },
    {
      "cell_type": "markdown",
      "id": "20dc3b6c",
      "metadata": {
        "id": "20dc3b6c"
      },
      "source": [
        "## Comparing stroke versus no stroke in data"
      ]
    },
    {
      "cell_type": "code",
      "execution_count": null,
      "id": "bda1132b",
      "metadata": {
        "id": "bda1132b",
        "outputId": "5b978c2e-31be-42dd-8fa8-46c0ecd6d4ef"
      },
      "outputs": [
        {
          "data": {
            "text/html": [
              "<div>\n",
              "<style scoped>\n",
              "    .dataframe tbody tr th:only-of-type {\n",
              "        vertical-align: middle;\n",
              "    }\n",
              "\n",
              "    .dataframe tbody tr th {\n",
              "        vertical-align: top;\n",
              "    }\n",
              "\n",
              "    .dataframe thead th {\n",
              "        text-align: right;\n",
              "    }\n",
              "</style>\n",
              "<table border=\"1\" class=\"dataframe\">\n",
              "  <thead>\n",
              "    <tr style=\"text-align: right;\">\n",
              "      <th></th>\n",
              "      <th>age</th>\n",
              "      <th>hypertension</th>\n",
              "      <th>heart_disease</th>\n",
              "      <th>avg_glucose_level</th>\n",
              "      <th>bmi</th>\n",
              "      <th>stroke</th>\n",
              "    </tr>\n",
              "  </thead>\n",
              "  <tbody>\n",
              "    <tr>\n",
              "      <th>count</th>\n",
              "      <td>1500.00000</td>\n",
              "      <td>1500.000000</td>\n",
              "      <td>1500.000000</td>\n",
              "      <td>1500.000000</td>\n",
              "      <td>1500.000000</td>\n",
              "      <td>1500.0</td>\n",
              "    </tr>\n",
              "    <tr>\n",
              "      <th>mean</th>\n",
              "      <td>67.41840</td>\n",
              "      <td>0.256667</td>\n",
              "      <td>0.204667</td>\n",
              "      <td>133.898540</td>\n",
              "      <td>30.286733</td>\n",
              "      <td>1.0</td>\n",
              "    </tr>\n",
              "    <tr>\n",
              "      <th>std</th>\n",
              "      <td>12.50128</td>\n",
              "      <td>0.436940</td>\n",
              "      <td>0.403592</td>\n",
              "      <td>61.984224</td>\n",
              "      <td>5.460197</td>\n",
              "      <td>0.0</td>\n",
              "    </tr>\n",
              "    <tr>\n",
              "      <th>min</th>\n",
              "      <td>1.32000</td>\n",
              "      <td>0.000000</td>\n",
              "      <td>0.000000</td>\n",
              "      <td>56.110000</td>\n",
              "      <td>16.900000</td>\n",
              "      <td>1.0</td>\n",
              "    </tr>\n",
              "    <tr>\n",
              "      <th>25%</th>\n",
              "      <td>59.00000</td>\n",
              "      <td>0.000000</td>\n",
              "      <td>0.000000</td>\n",
              "      <td>80.355000</td>\n",
              "      <td>27.000000</td>\n",
              "      <td>1.0</td>\n",
              "    </tr>\n",
              "    <tr>\n",
              "      <th>50%</th>\n",
              "      <td>70.00000</td>\n",
              "      <td>0.000000</td>\n",
              "      <td>0.000000</td>\n",
              "      <td>106.410000</td>\n",
              "      <td>29.600000</td>\n",
              "      <td>1.0</td>\n",
              "    </tr>\n",
              "    <tr>\n",
              "      <th>75%</th>\n",
              "      <td>78.00000</td>\n",
              "      <td>1.000000</td>\n",
              "      <td>0.000000</td>\n",
              "      <td>197.280000</td>\n",
              "      <td>32.600000</td>\n",
              "      <td>1.0</td>\n",
              "    </tr>\n",
              "    <tr>\n",
              "      <th>max</th>\n",
              "      <td>82.00000</td>\n",
              "      <td>1.000000</td>\n",
              "      <td>1.000000</td>\n",
              "      <td>271.740000</td>\n",
              "      <td>48.900000</td>\n",
              "      <td>1.0</td>\n",
              "    </tr>\n",
              "  </tbody>\n",
              "</table>\n",
              "</div>"
            ],
            "text/plain": [
              "              age  hypertension  heart_disease  avg_glucose_level  \\\n",
              "count  1500.00000   1500.000000    1500.000000        1500.000000   \n",
              "mean     67.41840      0.256667       0.204667         133.898540   \n",
              "std      12.50128      0.436940       0.403592          61.984224   \n",
              "min       1.32000      0.000000       0.000000          56.110000   \n",
              "25%      59.00000      0.000000       0.000000          80.355000   \n",
              "50%      70.00000      0.000000       0.000000         106.410000   \n",
              "75%      78.00000      1.000000       0.000000         197.280000   \n",
              "max      82.00000      1.000000       1.000000         271.740000   \n",
              "\n",
              "               bmi  stroke  \n",
              "count  1500.000000  1500.0  \n",
              "mean     30.286733     1.0  \n",
              "std       5.460197     0.0  \n",
              "min      16.900000     1.0  \n",
              "25%      27.000000     1.0  \n",
              "50%      29.600000     1.0  \n",
              "75%      32.600000     1.0  \n",
              "max      48.900000     1.0  "
            ]
          },
          "execution_count": 282,
          "metadata": {},
          "output_type": "execute_result"
        }
      ],
      "source": [
        "# describe for stroke\n",
        "yesstroke=stroke_bal[stroke_bal['stroke']==1]\n",
        "yesstroke.describe()"
      ]
    },
    {
      "cell_type": "code",
      "execution_count": null,
      "id": "7d163bfa",
      "metadata": {
        "id": "7d163bfa",
        "outputId": "2cc1e540-45e2-4c46-8537-f541d4a5d116"
      },
      "outputs": [
        {
          "data": {
            "text/html": [
              "<div>\n",
              "<style scoped>\n",
              "    .dataframe tbody tr th:only-of-type {\n",
              "        vertical-align: middle;\n",
              "    }\n",
              "\n",
              "    .dataframe tbody tr th {\n",
              "        vertical-align: top;\n",
              "    }\n",
              "\n",
              "    .dataframe thead th {\n",
              "        text-align: right;\n",
              "    }\n",
              "</style>\n",
              "<table border=\"1\" class=\"dataframe\">\n",
              "  <thead>\n",
              "    <tr style=\"text-align: right;\">\n",
              "      <th></th>\n",
              "      <th>age</th>\n",
              "      <th>hypertension</th>\n",
              "      <th>heart_disease</th>\n",
              "      <th>avg_glucose_level</th>\n",
              "      <th>bmi</th>\n",
              "      <th>stroke</th>\n",
              "    </tr>\n",
              "  </thead>\n",
              "  <tbody>\n",
              "    <tr>\n",
              "      <th>count</th>\n",
              "      <td>1500.000000</td>\n",
              "      <td>1500.00000</td>\n",
              "      <td>1500.000000</td>\n",
              "      <td>1500.000000</td>\n",
              "      <td>1500.000000</td>\n",
              "      <td>1500.0</td>\n",
              "    </tr>\n",
              "    <tr>\n",
              "      <th>mean</th>\n",
              "      <td>42.404667</td>\n",
              "      <td>0.08400</td>\n",
              "      <td>0.054667</td>\n",
              "      <td>105.657440</td>\n",
              "      <td>28.537467</td>\n",
              "      <td>0.0</td>\n",
              "    </tr>\n",
              "    <tr>\n",
              "      <th>std</th>\n",
              "      <td>22.053736</td>\n",
              "      <td>0.27748</td>\n",
              "      <td>0.227404</td>\n",
              "      <td>44.861279</td>\n",
              "      <td>6.835117</td>\n",
              "      <td>0.0</td>\n",
              "    </tr>\n",
              "    <tr>\n",
              "      <th>min</th>\n",
              "      <td>0.240000</td>\n",
              "      <td>0.00000</td>\n",
              "      <td>0.000000</td>\n",
              "      <td>55.120000</td>\n",
              "      <td>14.300000</td>\n",
              "      <td>0.0</td>\n",
              "    </tr>\n",
              "    <tr>\n",
              "      <th>25%</th>\n",
              "      <td>25.000000</td>\n",
              "      <td>0.00000</td>\n",
              "      <td>0.000000</td>\n",
              "      <td>77.290000</td>\n",
              "      <td>23.500000</td>\n",
              "      <td>0.0</td>\n",
              "    </tr>\n",
              "    <tr>\n",
              "      <th>50%</th>\n",
              "      <td>43.000000</td>\n",
              "      <td>0.00000</td>\n",
              "      <td>0.000000</td>\n",
              "      <td>91.745000</td>\n",
              "      <td>28.100000</td>\n",
              "      <td>0.0</td>\n",
              "    </tr>\n",
              "    <tr>\n",
              "      <th>75%</th>\n",
              "      <td>59.000000</td>\n",
              "      <td>0.00000</td>\n",
              "      <td>0.000000</td>\n",
              "      <td>114.915000</td>\n",
              "      <td>32.500000</td>\n",
              "      <td>0.0</td>\n",
              "    </tr>\n",
              "    <tr>\n",
              "      <th>max</th>\n",
              "      <td>82.000000</td>\n",
              "      <td>1.00000</td>\n",
              "      <td>1.000000</td>\n",
              "      <td>267.600000</td>\n",
              "      <td>48.800000</td>\n",
              "      <td>0.0</td>\n",
              "    </tr>\n",
              "  </tbody>\n",
              "</table>\n",
              "</div>"
            ],
            "text/plain": [
              "               age  hypertension  heart_disease  avg_glucose_level  \\\n",
              "count  1500.000000    1500.00000    1500.000000        1500.000000   \n",
              "mean     42.404667       0.08400       0.054667         105.657440   \n",
              "std      22.053736       0.27748       0.227404          44.861279   \n",
              "min       0.240000       0.00000       0.000000          55.120000   \n",
              "25%      25.000000       0.00000       0.000000          77.290000   \n",
              "50%      43.000000       0.00000       0.000000          91.745000   \n",
              "75%      59.000000       0.00000       0.000000         114.915000   \n",
              "max      82.000000       1.00000       1.000000         267.600000   \n",
              "\n",
              "               bmi  stroke  \n",
              "count  1500.000000  1500.0  \n",
              "mean     28.537467     0.0  \n",
              "std       6.835117     0.0  \n",
              "min      14.300000     0.0  \n",
              "25%      23.500000     0.0  \n",
              "50%      28.100000     0.0  \n",
              "75%      32.500000     0.0  \n",
              "max      48.800000     0.0  "
            ]
          },
          "execution_count": 283,
          "metadata": {},
          "output_type": "execute_result"
        }
      ],
      "source": [
        "# describe for no stroke\n",
        "nostroke=stroke_bal[stroke_bal['stroke']==0]\n",
        "nostroke.describe()"
      ]
    },
    {
      "cell_type": "code",
      "execution_count": null,
      "id": "3459917f",
      "metadata": {
        "scrolled": true,
        "id": "3459917f",
        "outputId": "d3d5a947-e54a-4449-864a-e96cb4857764"
      },
      "outputs": [
        {
          "name": "stdout",
          "output_type": "stream",
          "text": [
            "gender               False\n",
            "age                  False\n",
            "hypertension         False\n",
            "heart_disease        False\n",
            "ever_married         False\n",
            "work_type            False\n",
            "Residence_type       False\n",
            "avg_glucose_level    False\n",
            "bmi                  False\n",
            "smoking_status       False\n",
            "stroke               False\n",
            "dtype: bool\n"
          ]
        }
      ],
      "source": [
        "#checking for missing\n",
        "print(stroke_bal.isnull().all())\n",
        "#no NA"
      ]
    },
    {
      "cell_type": "markdown",
      "id": "6c046ef6",
      "metadata": {
        "id": "6c046ef6"
      },
      "source": [
        "# start of predictive analytics"
      ]
    },
    {
      "cell_type": "markdown",
      "id": "dd537957",
      "metadata": {
        "id": "dd537957"
      },
      "source": [
        "## Here we are:\n",
        "    - Splitting data into feature and test sets\n",
        "    - Then, creating train and test\n",
        "    - Lastly, creating dummy variables for our training set"
      ]
    },
    {
      "cell_type": "code",
      "execution_count": null,
      "id": "e0b6f2fe",
      "metadata": {
        "id": "e0b6f2fe"
      },
      "outputs": [],
      "source": [
        "# make features and target sets\n",
        "X_stroke, y_stroke=stroke_bal.iloc[:,:-1],stroke_bal['stroke']"
      ]
    },
    {
      "cell_type": "code",
      "execution_count": null,
      "id": "d719b5d2",
      "metadata": {
        "id": "d719b5d2",
        "outputId": "dc6e5dcb-aba4-4e29-a23b-91fc499bdc39"
      },
      "outputs": [
        {
          "data": {
            "text/html": [
              "<div>\n",
              "<style scoped>\n",
              "    .dataframe tbody tr th:only-of-type {\n",
              "        vertical-align: middle;\n",
              "    }\n",
              "\n",
              "    .dataframe tbody tr th {\n",
              "        vertical-align: top;\n",
              "    }\n",
              "\n",
              "    .dataframe thead th {\n",
              "        text-align: right;\n",
              "    }\n",
              "</style>\n",
              "<table border=\"1\" class=\"dataframe\">\n",
              "  <thead>\n",
              "    <tr style=\"text-align: right;\">\n",
              "      <th></th>\n",
              "      <th>gender</th>\n",
              "      <th>age</th>\n",
              "      <th>hypertension</th>\n",
              "      <th>heart_disease</th>\n",
              "      <th>ever_married</th>\n",
              "      <th>work_type</th>\n",
              "      <th>Residence_type</th>\n",
              "      <th>avg_glucose_level</th>\n",
              "      <th>bmi</th>\n",
              "      <th>smoking_status</th>\n",
              "    </tr>\n",
              "  </thead>\n",
              "  <tbody>\n",
              "    <tr>\n",
              "      <th>2940</th>\n",
              "      <td>Male</td>\n",
              "      <td>56.0</td>\n",
              "      <td>0</td>\n",
              "      <td>0</td>\n",
              "      <td>Yes</td>\n",
              "      <td>Private</td>\n",
              "      <td>Urban</td>\n",
              "      <td>78.93</td>\n",
              "      <td>31.1</td>\n",
              "      <td>Unknown</td>\n",
              "    </tr>\n",
              "    <tr>\n",
              "      <th>2815</th>\n",
              "      <td>Female</td>\n",
              "      <td>78.0</td>\n",
              "      <td>0</td>\n",
              "      <td>0</td>\n",
              "      <td>Yes</td>\n",
              "      <td>Private</td>\n",
              "      <td>Urban</td>\n",
              "      <td>93.15</td>\n",
              "      <td>23.6</td>\n",
              "      <td>Unknown</td>\n",
              "    </tr>\n",
              "    <tr>\n",
              "      <th>1861</th>\n",
              "      <td>Male</td>\n",
              "      <td>69.0</td>\n",
              "      <td>1</td>\n",
              "      <td>0</td>\n",
              "      <td>Yes</td>\n",
              "      <td>Private</td>\n",
              "      <td>Urban</td>\n",
              "      <td>229.21</td>\n",
              "      <td>30.1</td>\n",
              "      <td>smokes</td>\n",
              "    </tr>\n",
              "  </tbody>\n",
              "</table>\n",
              "</div>"
            ],
            "text/plain": [
              "      gender   age  hypertension  heart_disease ever_married work_type  \\\n",
              "2940    Male  56.0             0              0          Yes   Private   \n",
              "2815  Female  78.0             0              0          Yes   Private   \n",
              "1861    Male  69.0             1              0          Yes   Private   \n",
              "\n",
              "     Residence_type  avg_glucose_level   bmi smoking_status  \n",
              "2940          Urban              78.93  31.1        Unknown  \n",
              "2815          Urban              93.15  23.6        Unknown  \n",
              "1861          Urban             229.21  30.1         smokes  "
            ]
          },
          "execution_count": 286,
          "metadata": {},
          "output_type": "execute_result"
        }
      ],
      "source": [
        "X_stroke.head(3)"
      ]
    },
    {
      "cell_type": "code",
      "execution_count": null,
      "id": "f3b571b6",
      "metadata": {
        "id": "f3b571b6",
        "outputId": "458ddd62-af2b-4c90-b83a-7a9e4c9ea18e"
      },
      "outputs": [
        {
          "data": {
            "text/plain": [
              "2940    0\n",
              "2815    0\n",
              "1861    0\n",
              "Name: stroke, dtype: int64"
            ]
          },
          "execution_count": 287,
          "metadata": {},
          "output_type": "execute_result"
        }
      ],
      "source": [
        "y_stroke.head(3)"
      ]
    },
    {
      "cell_type": "code",
      "execution_count": null,
      "id": "7b540882",
      "metadata": {
        "id": "7b540882"
      },
      "outputs": [],
      "source": [
        "y_stroke=y_stroke.astype(str)"
      ]
    },
    {
      "cell_type": "code",
      "execution_count": null,
      "id": "bb488613",
      "metadata": {
        "id": "bb488613",
        "outputId": "6d22d7b3-21b4-4444-d827-1358875c9cf6"
      },
      "outputs": [
        {
          "data": {
            "text/plain": [
              "dtype('O')"
            ]
          },
          "execution_count": 289,
          "metadata": {},
          "output_type": "execute_result"
        }
      ],
      "source": [
        "y_stroke.dtypes"
      ]
    },
    {
      "cell_type": "code",
      "execution_count": null,
      "id": "3ad2de93",
      "metadata": {
        "id": "3ad2de93"
      },
      "outputs": [],
      "source": [
        "X_stroke['age']=X_stroke['age'].astype(int)"
      ]
    },
    {
      "cell_type": "code",
      "execution_count": null,
      "id": "e36e311a",
      "metadata": {
        "scrolled": true,
        "id": "e36e311a",
        "outputId": "96452592-1997-4389-a8fc-c8cd9303b84c"
      },
      "outputs": [
        {
          "data": {
            "text/plain": [
              "gender                object\n",
              "age                    int64\n",
              "hypertension           int64\n",
              "heart_disease          int64\n",
              "ever_married          object\n",
              "work_type             object\n",
              "Residence_type        object\n",
              "avg_glucose_level    float64\n",
              "bmi                  float64\n",
              "smoking_status        object\n",
              "dtype: object"
            ]
          },
          "execution_count": 291,
          "metadata": {},
          "output_type": "execute_result"
        }
      ],
      "source": [
        "X_stroke.dtypes"
      ]
    },
    {
      "cell_type": "code",
      "execution_count": null,
      "id": "4f5835a3",
      "metadata": {
        "scrolled": true,
        "id": "4f5835a3",
        "outputId": "e57dca0c-2a63-40e2-84f3-b6c28f6ee637"
      },
      "outputs": [
        {
          "data": {
            "text/html": [
              "<div>\n",
              "<style scoped>\n",
              "    .dataframe tbody tr th:only-of-type {\n",
              "        vertical-align: middle;\n",
              "    }\n",
              "\n",
              "    .dataframe tbody tr th {\n",
              "        vertical-align: top;\n",
              "    }\n",
              "\n",
              "    .dataframe thead th {\n",
              "        text-align: right;\n",
              "    }\n",
              "</style>\n",
              "<table border=\"1\" class=\"dataframe\">\n",
              "  <thead>\n",
              "    <tr style=\"text-align: right;\">\n",
              "      <th></th>\n",
              "      <th>age</th>\n",
              "      <th>hypertension</th>\n",
              "      <th>heart_disease</th>\n",
              "      <th>avg_glucose_level</th>\n",
              "      <th>bmi</th>\n",
              "      <th>gender_Female</th>\n",
              "      <th>gender_Male</th>\n",
              "      <th>ever_married_No</th>\n",
              "      <th>ever_married_Yes</th>\n",
              "      <th>work_type_Govt_job</th>\n",
              "      <th>work_type_Private</th>\n",
              "      <th>work_type_Self-employed</th>\n",
              "      <th>work_type_children</th>\n",
              "      <th>Residence_type_Rural</th>\n",
              "      <th>Residence_type_Urban</th>\n",
              "      <th>smoking_status_Unknown</th>\n",
              "      <th>smoking_status_formerly smoked</th>\n",
              "      <th>smoking_status_never smoked</th>\n",
              "      <th>smoking_status_smokes</th>\n",
              "    </tr>\n",
              "  </thead>\n",
              "  <tbody>\n",
              "    <tr>\n",
              "      <th>2940</th>\n",
              "      <td>56</td>\n",
              "      <td>0</td>\n",
              "      <td>0</td>\n",
              "      <td>78.93</td>\n",
              "      <td>31.1</td>\n",
              "      <td>0</td>\n",
              "      <td>1</td>\n",
              "      <td>0</td>\n",
              "      <td>1</td>\n",
              "      <td>0</td>\n",
              "      <td>1</td>\n",
              "      <td>0</td>\n",
              "      <td>0</td>\n",
              "      <td>0</td>\n",
              "      <td>1</td>\n",
              "      <td>1</td>\n",
              "      <td>0</td>\n",
              "      <td>0</td>\n",
              "      <td>0</td>\n",
              "    </tr>\n",
              "    <tr>\n",
              "      <th>2815</th>\n",
              "      <td>78</td>\n",
              "      <td>0</td>\n",
              "      <td>0</td>\n",
              "      <td>93.15</td>\n",
              "      <td>23.6</td>\n",
              "      <td>1</td>\n",
              "      <td>0</td>\n",
              "      <td>0</td>\n",
              "      <td>1</td>\n",
              "      <td>0</td>\n",
              "      <td>1</td>\n",
              "      <td>0</td>\n",
              "      <td>0</td>\n",
              "      <td>0</td>\n",
              "      <td>1</td>\n",
              "      <td>1</td>\n",
              "      <td>0</td>\n",
              "      <td>0</td>\n",
              "      <td>0</td>\n",
              "    </tr>\n",
              "    <tr>\n",
              "      <th>1861</th>\n",
              "      <td>69</td>\n",
              "      <td>1</td>\n",
              "      <td>0</td>\n",
              "      <td>229.21</td>\n",
              "      <td>30.1</td>\n",
              "      <td>0</td>\n",
              "      <td>1</td>\n",
              "      <td>0</td>\n",
              "      <td>1</td>\n",
              "      <td>0</td>\n",
              "      <td>1</td>\n",
              "      <td>0</td>\n",
              "      <td>0</td>\n",
              "      <td>0</td>\n",
              "      <td>1</td>\n",
              "      <td>0</td>\n",
              "      <td>0</td>\n",
              "      <td>0</td>\n",
              "      <td>1</td>\n",
              "    </tr>\n",
              "  </tbody>\n",
              "</table>\n",
              "</div>"
            ],
            "text/plain": [
              "      age  hypertension  heart_disease  avg_glucose_level   bmi  \\\n",
              "2940   56             0              0              78.93  31.1   \n",
              "2815   78             0              0              93.15  23.6   \n",
              "1861   69             1              0             229.21  30.1   \n",
              "\n",
              "      gender_Female  gender_Male  ever_married_No  ever_married_Yes  \\\n",
              "2940              0            1                0                 1   \n",
              "2815              1            0                0                 1   \n",
              "1861              0            1                0                 1   \n",
              "\n",
              "      work_type_Govt_job  work_type_Private  work_type_Self-employed  \\\n",
              "2940                   0                  1                        0   \n",
              "2815                   0                  1                        0   \n",
              "1861                   0                  1                        0   \n",
              "\n",
              "      work_type_children  Residence_type_Rural  Residence_type_Urban  \\\n",
              "2940                   0                     0                     1   \n",
              "2815                   0                     0                     1   \n",
              "1861                   0                     0                     1   \n",
              "\n",
              "      smoking_status_Unknown  smoking_status_formerly smoked  \\\n",
              "2940                       1                               0   \n",
              "2815                       1                               0   \n",
              "1861                       0                               0   \n",
              "\n",
              "      smoking_status_never smoked  smoking_status_smokes  \n",
              "2940                            0                      0  \n",
              "2815                            0                      0  \n",
              "1861                            0                      1  "
            ]
          },
          "execution_count": 292,
          "metadata": {},
          "output_type": "execute_result"
        }
      ],
      "source": [
        "# creating dummy variables\n",
        "X_dummy=pd.get_dummies(X_stroke)\n",
        "X_dummy.head(3)"
      ]
    },
    {
      "cell_type": "code",
      "execution_count": null,
      "id": "986b33d5",
      "metadata": {
        "id": "986b33d5"
      },
      "outputs": [],
      "source": [
        "# split train and test (75/25)\n",
        "X_train, X_test, y_train, y_test=train_test_split(X_dummy,y_stroke,random_state=0,test_size=.25)"
      ]
    },
    {
      "cell_type": "markdown",
      "id": "c0690f31",
      "metadata": {
        "id": "c0690f31"
      },
      "source": [
        "## KNN-Classification Model"
      ]
    },
    {
      "cell_type": "markdown",
      "id": "a25517d4",
      "metadata": {
        "id": "a25517d4"
      },
      "source": [
        "### First we need to create a validation curve to select the optimal parameter:\n",
        "    - For KNN-Classification, n_neighbors = 1 produces the best result"
      ]
    },
    {
      "cell_type": "code",
      "execution_count": null,
      "id": "ac9765b7",
      "metadata": {
        "id": "ac9765b7"
      },
      "outputs": [],
      "source": [
        "# validation curve\n",
        "train_scores_knn,test_scores_knn=validation_curve(KNeighborsClassifier(),X_dummy.values,y_stroke.values,\n",
        "                                          param_name='n_neighbors',\n",
        "                                          param_range=[1,5,10,15,20,25,50,100],cv=5,scoring=\"accuracy\")"
      ]
    },
    {
      "cell_type": "code",
      "execution_count": null,
      "id": "e262c961",
      "metadata": {
        "id": "e262c961",
        "outputId": "e8bd304a-90c3-46e6-c765-08dc7ed7c343"
      },
      "outputs": [
        {
          "data": {
            "text/plain": [
              "array([[1.     , 1.     , 1.     , 1.     , 1.     ],\n",
              "       [0.905  , 0.89542, 0.89792, 0.90375, 0.89958],\n",
              "       [0.84042, 0.83583, 0.82458, 0.84208, 0.83458],\n",
              "       [0.81625, 0.805  , 0.81417, 0.80833, 0.81   ],\n",
              "       [0.81667, 0.79333, 0.79375, 0.79125, 0.81167],\n",
              "       [0.80208, 0.79542, 0.79958, 0.79583, 0.79833],\n",
              "       [0.77542, 0.76958, 0.76292, 0.775  , 0.77958],\n",
              "       [0.765  , 0.76042, 0.75792, 0.76333, 0.76625]])"
            ]
          },
          "execution_count": 295,
          "metadata": {},
          "output_type": "execute_result"
        }
      ],
      "source": [
        "train_scores_knn.round(5)"
      ]
    },
    {
      "cell_type": "code",
      "execution_count": null,
      "id": "86bc7e37",
      "metadata": {
        "id": "86bc7e37",
        "outputId": "c7e18f51-4b7c-4f2a-efd6-1e29178ed6eb"
      },
      "outputs": [
        {
          "data": {
            "text/plain": [
              "array([[0.93167, 0.96667, 0.95333, 0.94833, 0.94167],\n",
              "       [0.83833, 0.875  , 0.855  , 0.845  , 0.84333],\n",
              "       [0.78167, 0.8    , 0.815  , 0.78667, 0.805  ],\n",
              "       [0.77167, 0.81167, 0.79667, 0.76833, 0.79   ],\n",
              "       [0.77167, 0.81167, 0.79333, 0.775  , 0.805  ],\n",
              "       [0.76167, 0.80333, 0.8    , 0.78667, 0.775  ],\n",
              "       [0.75   , 0.795  , 0.78167, 0.76667, 0.74833],\n",
              "       [0.725  , 0.78333, 0.785  , 0.76833, 0.73667]])"
            ]
          },
          "execution_count": 296,
          "metadata": {},
          "output_type": "execute_result"
        }
      ],
      "source": [
        "test_scores_knn.round(5)"
      ]
    },
    {
      "cell_type": "code",
      "execution_count": null,
      "id": "58b33ce4",
      "metadata": {
        "id": "58b33ce4",
        "outputId": "11d79534-c47d-42f3-f6c7-f49e95c07818"
      },
      "outputs": [
        {
          "name": "stdout",
          "output_type": "stream",
          "text": [
            "mean train scores across 5 folds [1.     0.9003 0.8355 0.8108 0.8013 0.7983 0.7725 0.7626]\n",
            "mean test scores across 5 folds [0.9483 0.8513 0.7977 0.7877 0.7913 0.7853 0.7683 0.7597]\n"
          ]
        }
      ],
      "source": [
        "#find best\n",
        "print('mean train scores across 5 folds',train_scores_knn.mean(axis=1).round(4))\n",
        "print('mean test scores across 5 folds',test_scores_knn.mean(axis=1).round(4))\n",
        "# n_neighbors = 1 is best"
      ]
    },
    {
      "cell_type": "markdown",
      "id": "cd2ae872",
      "metadata": {
        "id": "cd2ae872"
      },
      "source": [
        "### Now we create and fit our model:\n",
        "    - Our model holds a 100% accuracy on train and a 93.60% accuracy on test"
      ]
    },
    {
      "cell_type": "code",
      "execution_count": null,
      "id": "5356a25f",
      "metadata": {
        "id": "5356a25f",
        "outputId": "e42f00b9-b7c1-4f21-f0df-ae7f074571f4"
      },
      "outputs": [
        {
          "data": {
            "text/html": [
              "<style>#sk-container-id-22 {color: black;}#sk-container-id-22 pre{padding: 0;}#sk-container-id-22 div.sk-toggleable {background-color: white;}#sk-container-id-22 label.sk-toggleable__label {cursor: pointer;display: block;width: 100%;margin-bottom: 0;padding: 0.3em;box-sizing: border-box;text-align: center;}#sk-container-id-22 label.sk-toggleable__label-arrow:before {content: \"▸\";float: left;margin-right: 0.25em;color: #696969;}#sk-container-id-22 label.sk-toggleable__label-arrow:hover:before {color: black;}#sk-container-id-22 div.sk-estimator:hover label.sk-toggleable__label-arrow:before {color: black;}#sk-container-id-22 div.sk-toggleable__content {max-height: 0;max-width: 0;overflow: hidden;text-align: left;background-color: #f0f8ff;}#sk-container-id-22 div.sk-toggleable__content pre {margin: 0.2em;color: black;border-radius: 0.25em;background-color: #f0f8ff;}#sk-container-id-22 input.sk-toggleable__control:checked~div.sk-toggleable__content {max-height: 200px;max-width: 100%;overflow: auto;}#sk-container-id-22 input.sk-toggleable__control:checked~label.sk-toggleable__label-arrow:before {content: \"▾\";}#sk-container-id-22 div.sk-estimator input.sk-toggleable__control:checked~label.sk-toggleable__label {background-color: #d4ebff;}#sk-container-id-22 div.sk-label input.sk-toggleable__control:checked~label.sk-toggleable__label {background-color: #d4ebff;}#sk-container-id-22 input.sk-hidden--visually {border: 0;clip: rect(1px 1px 1px 1px);clip: rect(1px, 1px, 1px, 1px);height: 1px;margin: -1px;overflow: hidden;padding: 0;position: absolute;width: 1px;}#sk-container-id-22 div.sk-estimator {font-family: monospace;background-color: #f0f8ff;border: 1px dotted black;border-radius: 0.25em;box-sizing: border-box;margin-bottom: 0.5em;}#sk-container-id-22 div.sk-estimator:hover {background-color: #d4ebff;}#sk-container-id-22 div.sk-parallel-item::after {content: \"\";width: 100%;border-bottom: 1px solid gray;flex-grow: 1;}#sk-container-id-22 div.sk-label:hover label.sk-toggleable__label {background-color: #d4ebff;}#sk-container-id-22 div.sk-serial::before {content: \"\";position: absolute;border-left: 1px solid gray;box-sizing: border-box;top: 0;bottom: 0;left: 50%;z-index: 0;}#sk-container-id-22 div.sk-serial {display: flex;flex-direction: column;align-items: center;background-color: white;padding-right: 0.2em;padding-left: 0.2em;position: relative;}#sk-container-id-22 div.sk-item {position: relative;z-index: 1;}#sk-container-id-22 div.sk-parallel {display: flex;align-items: stretch;justify-content: center;background-color: white;position: relative;}#sk-container-id-22 div.sk-item::before, #sk-container-id-22 div.sk-parallel-item::before {content: \"\";position: absolute;border-left: 1px solid gray;box-sizing: border-box;top: 0;bottom: 0;left: 50%;z-index: -1;}#sk-container-id-22 div.sk-parallel-item {display: flex;flex-direction: column;z-index: 1;position: relative;background-color: white;}#sk-container-id-22 div.sk-parallel-item:first-child::after {align-self: flex-end;width: 50%;}#sk-container-id-22 div.sk-parallel-item:last-child::after {align-self: flex-start;width: 50%;}#sk-container-id-22 div.sk-parallel-item:only-child::after {width: 0;}#sk-container-id-22 div.sk-dashed-wrapped {border: 1px dashed gray;margin: 0 0.4em 0.5em 0.4em;box-sizing: border-box;padding-bottom: 0.4em;background-color: white;}#sk-container-id-22 div.sk-label label {font-family: monospace;font-weight: bold;display: inline-block;line-height: 1.2em;}#sk-container-id-22 div.sk-label-container {text-align: center;}#sk-container-id-22 div.sk-container {/* jupyter's `normalize.less` sets `[hidden] { display: none; }` but bootstrap.min.css set `[hidden] { display: none !important; }` so we also need the `!important` here to be able to override the default hidden behavior on the sphinx rendered scikit-learn.org. See: https://github.com/scikit-learn/scikit-learn/issues/21755 */display: inline-block !important;position: relative;}#sk-container-id-22 div.sk-text-repr-fallback {display: none;}</style><div id=\"sk-container-id-22\" class=\"sk-top-container\"><div class=\"sk-text-repr-fallback\"><pre>KNeighborsClassifier(n_neighbors=1)</pre><b>In a Jupyter environment, please rerun this cell to show the HTML representation or trust the notebook. <br />On GitHub, the HTML representation is unable to render, please try loading this page with nbviewer.org.</b></div><div class=\"sk-container\" hidden><div class=\"sk-item\"><div class=\"sk-estimator sk-toggleable\"><input class=\"sk-toggleable__control sk-hidden--visually\" id=\"sk-estimator-id-22\" type=\"checkbox\" checked><label for=\"sk-estimator-id-22\" class=\"sk-toggleable__label sk-toggleable__label-arrow\">KNeighborsClassifier</label><div class=\"sk-toggleable__content\"><pre>KNeighborsClassifier(n_neighbors=1)</pre></div></div></div></div></div>"
            ],
            "text/plain": [
              "KNeighborsClassifier(n_neighbors=1)"
            ]
          },
          "execution_count": 298,
          "metadata": {},
          "output_type": "execute_result"
        }
      ],
      "source": [
        "# fit model\n",
        "knn=KNeighborsClassifier(n_neighbors=1)\n",
        "knn.fit(X_train.values,y_train.values)"
      ]
    },
    {
      "cell_type": "code",
      "execution_count": null,
      "id": "96c7b1f5",
      "metadata": {
        "id": "96c7b1f5",
        "outputId": "6332c646-0896-4490-b8ba-359b58c84881"
      },
      "outputs": [
        {
          "name": "stdout",
          "output_type": "stream",
          "text": [
            "knn acc on train: 100.00%\n",
            "knn acc on test: 93.60%\n"
          ]
        }
      ],
      "source": [
        "# evaluate model\n",
        "print('knn acc on train: {:.2%}'.format(knn.score(X_train.values,y_train.values)))\n",
        "print('knn acc on test: {:.2%}'.format(knn.score(X_test.values,y_test.values)))"
      ]
    },
    {
      "cell_type": "markdown",
      "id": "dc7d72c4",
      "metadata": {
        "id": "dc7d72c4"
      },
      "source": [
        "## Logistic Regression"
      ]
    },
    {
      "cell_type": "markdown",
      "id": "760dbf04",
      "metadata": {
        "id": "760dbf04"
      },
      "source": [
        "### First we need to create a validation curve to select the optimal parameter:\n",
        "    - Before"
      ]
    },
    {
      "cell_type": "code",
      "execution_count": null,
      "id": "5ebf62e6",
      "metadata": {
        "id": "5ebf62e6",
        "outputId": "48e072c3-f8c3-447e-9799-af9bb86002f5"
      },
      "outputs": [
        {
          "data": {
            "text/plain": [
              "array([[0.68292683, 0.        , 0.        , ..., 0.        , 0.        ,\n",
              "        0.        ],\n",
              "       [0.95121951, 0.        , 0.        , ..., 0.        , 0.        ,\n",
              "        0.        ],\n",
              "       [0.84146341, 1.        , 0.        , ..., 0.        , 0.        ,\n",
              "        1.        ],\n",
              "       ...,\n",
              "       [0.97560976, 1.        , 0.        , ..., 0.        , 1.        ,\n",
              "        0.        ],\n",
              "       [0.96341463, 0.        , 1.        , ..., 0.        , 0.        ,\n",
              "        1.        ],\n",
              "       [0.69512195, 0.        , 0.        , ..., 0.        , 0.        ,\n",
              "        0.        ]])"
            ]
          },
          "execution_count": 300,
          "metadata": {},
          "output_type": "execute_result"
        }
      ],
      "source": [
        "# define and fit scaler\n",
        "scaler1=MinMaxScaler()\n",
        "X_stroke_trns=scaler1.fit_transform(X_dummy)\n",
        "X_stroke_trns"
      ]
    },
    {
      "cell_type": "code",
      "execution_count": null,
      "id": "eab2e47e",
      "metadata": {
        "id": "eab2e47e"
      },
      "outputs": [],
      "source": [
        "# validation curve\n",
        "train_scores,test_scores=validation_curve(LogisticRegression(max_iter=100000),X_stroke_trns,y_stroke,\n",
        "                                          param_name='C',\n",
        "                                          param_range=[0.01,0.1,0.5,0.75,1,5,10,15,20],cv=5)"
      ]
    },
    {
      "cell_type": "code",
      "execution_count": null,
      "id": "26452563",
      "metadata": {
        "id": "26452563",
        "outputId": "cf6c4d77-9ab5-4a31-ea83-0c3a2c849df0"
      },
      "outputs": [
        {
          "data": {
            "text/plain": [
              "array([[0.7596, 0.7425, 0.7517, 0.7462, 0.7554],\n",
              "       [0.7837, 0.7775, 0.7762, 0.7738, 0.7817],\n",
              "       [0.785 , 0.7829, 0.7729, 0.7754, 0.7788],\n",
              "       [0.7875, 0.7829, 0.7733, 0.7762, 0.7767],\n",
              "       [0.7908, 0.7833, 0.7733, 0.775 , 0.7775],\n",
              "       [0.79  , 0.7812, 0.7696, 0.7717, 0.7821],\n",
              "       [0.7904, 0.7812, 0.7696, 0.7717, 0.7821],\n",
              "       [0.7904, 0.7812, 0.7696, 0.7717, 0.7821],\n",
              "       [0.7908, 0.7812, 0.7696, 0.7717, 0.7821]])"
            ]
          },
          "execution_count": 302,
          "metadata": {},
          "output_type": "execute_result"
        }
      ],
      "source": [
        "train_scores.round(4)"
      ]
    },
    {
      "cell_type": "code",
      "execution_count": null,
      "id": "0f78d99e",
      "metadata": {
        "id": "0f78d99e",
        "outputId": "6e61e069-2fd3-417d-9a9d-af44b120b483"
      },
      "outputs": [
        {
          "data": {
            "text/plain": [
              "array([[0.7217, 0.765 , 0.7417, 0.7533, 0.7533],\n",
              "       [0.7583, 0.785 , 0.7983, 0.7683, 0.76  ],\n",
              "       [0.75  , 0.78  , 0.7967, 0.7767, 0.7667],\n",
              "       [0.75  , 0.7767, 0.8   , 0.775 , 0.76  ],\n",
              "       [0.7533, 0.78  , 0.7967, 0.7733, 0.76  ],\n",
              "       [0.7517, 0.7833, 0.7933, 0.7733, 0.7667],\n",
              "       [0.7517, 0.7833, 0.795 , 0.7733, 0.7667],\n",
              "       [0.7533, 0.7833, 0.795 , 0.7733, 0.7667],\n",
              "       [0.7533, 0.7833, 0.795 , 0.7733, 0.7667]])"
            ]
          },
          "execution_count": 303,
          "metadata": {},
          "output_type": "execute_result"
        }
      ],
      "source": [
        "test_scores.round(4)"
      ]
    },
    {
      "cell_type": "code",
      "execution_count": null,
      "id": "ff51f0a1",
      "metadata": {
        "id": "ff51f0a1",
        "outputId": "b999c39a-787f-4c52-a32a-c6d398381516"
      },
      "outputs": [
        {
          "name": "stdout",
          "output_type": "stream",
          "text": [
            "mean train scores across 5 folds [0.7511 0.7786 0.779  0.7793 0.78   0.7789 0.779  0.779  0.7791]\n",
            "mean test scores across 5 folds [0.747  0.774  0.774  0.7723 0.7727 0.7737 0.774  0.7743 0.7743]\n"
          ]
        }
      ],
      "source": [
        "#find best model\n",
        "print('mean train scores across 5 folds',train_scores.mean(axis=1).round(4))\n",
        "print('mean test scores across 5 folds',test_scores.mean(axis=1).round(4))\n",
        "#C=0.75 be best?"
      ]
    },
    {
      "cell_type": "code",
      "execution_count": null,
      "id": "3ec5f29d",
      "metadata": {
        "id": "3ec5f29d"
      },
      "outputs": [],
      "source": [
        "# make the model\n",
        "logreg=LogisticRegression(C=0.75,max_iter=100000,random_state=0)"
      ]
    },
    {
      "cell_type": "code",
      "execution_count": null,
      "id": "d99b5cbc",
      "metadata": {
        "id": "d99b5cbc",
        "outputId": "88390286-2e9d-4eb8-e4c9-0b7f4f75cc60"
      },
      "outputs": [
        {
          "data": {
            "text/html": [
              "<style>#sk-container-id-23 {color: black;}#sk-container-id-23 pre{padding: 0;}#sk-container-id-23 div.sk-toggleable {background-color: white;}#sk-container-id-23 label.sk-toggleable__label {cursor: pointer;display: block;width: 100%;margin-bottom: 0;padding: 0.3em;box-sizing: border-box;text-align: center;}#sk-container-id-23 label.sk-toggleable__label-arrow:before {content: \"▸\";float: left;margin-right: 0.25em;color: #696969;}#sk-container-id-23 label.sk-toggleable__label-arrow:hover:before {color: black;}#sk-container-id-23 div.sk-estimator:hover label.sk-toggleable__label-arrow:before {color: black;}#sk-container-id-23 div.sk-toggleable__content {max-height: 0;max-width: 0;overflow: hidden;text-align: left;background-color: #f0f8ff;}#sk-container-id-23 div.sk-toggleable__content pre {margin: 0.2em;color: black;border-radius: 0.25em;background-color: #f0f8ff;}#sk-container-id-23 input.sk-toggleable__control:checked~div.sk-toggleable__content {max-height: 200px;max-width: 100%;overflow: auto;}#sk-container-id-23 input.sk-toggleable__control:checked~label.sk-toggleable__label-arrow:before {content: \"▾\";}#sk-container-id-23 div.sk-estimator input.sk-toggleable__control:checked~label.sk-toggleable__label {background-color: #d4ebff;}#sk-container-id-23 div.sk-label input.sk-toggleable__control:checked~label.sk-toggleable__label {background-color: #d4ebff;}#sk-container-id-23 input.sk-hidden--visually {border: 0;clip: rect(1px 1px 1px 1px);clip: rect(1px, 1px, 1px, 1px);height: 1px;margin: -1px;overflow: hidden;padding: 0;position: absolute;width: 1px;}#sk-container-id-23 div.sk-estimator {font-family: monospace;background-color: #f0f8ff;border: 1px dotted black;border-radius: 0.25em;box-sizing: border-box;margin-bottom: 0.5em;}#sk-container-id-23 div.sk-estimator:hover {background-color: #d4ebff;}#sk-container-id-23 div.sk-parallel-item::after {content: \"\";width: 100%;border-bottom: 1px solid gray;flex-grow: 1;}#sk-container-id-23 div.sk-label:hover label.sk-toggleable__label {background-color: #d4ebff;}#sk-container-id-23 div.sk-serial::before {content: \"\";position: absolute;border-left: 1px solid gray;box-sizing: border-box;top: 0;bottom: 0;left: 50%;z-index: 0;}#sk-container-id-23 div.sk-serial {display: flex;flex-direction: column;align-items: center;background-color: white;padding-right: 0.2em;padding-left: 0.2em;position: relative;}#sk-container-id-23 div.sk-item {position: relative;z-index: 1;}#sk-container-id-23 div.sk-parallel {display: flex;align-items: stretch;justify-content: center;background-color: white;position: relative;}#sk-container-id-23 div.sk-item::before, #sk-container-id-23 div.sk-parallel-item::before {content: \"\";position: absolute;border-left: 1px solid gray;box-sizing: border-box;top: 0;bottom: 0;left: 50%;z-index: -1;}#sk-container-id-23 div.sk-parallel-item {display: flex;flex-direction: column;z-index: 1;position: relative;background-color: white;}#sk-container-id-23 div.sk-parallel-item:first-child::after {align-self: flex-end;width: 50%;}#sk-container-id-23 div.sk-parallel-item:last-child::after {align-self: flex-start;width: 50%;}#sk-container-id-23 div.sk-parallel-item:only-child::after {width: 0;}#sk-container-id-23 div.sk-dashed-wrapped {border: 1px dashed gray;margin: 0 0.4em 0.5em 0.4em;box-sizing: border-box;padding-bottom: 0.4em;background-color: white;}#sk-container-id-23 div.sk-label label {font-family: monospace;font-weight: bold;display: inline-block;line-height: 1.2em;}#sk-container-id-23 div.sk-label-container {text-align: center;}#sk-container-id-23 div.sk-container {/* jupyter's `normalize.less` sets `[hidden] { display: none; }` but bootstrap.min.css set `[hidden] { display: none !important; }` so we also need the `!important` here to be able to override the default hidden behavior on the sphinx rendered scikit-learn.org. See: https://github.com/scikit-learn/scikit-learn/issues/21755 */display: inline-block !important;position: relative;}#sk-container-id-23 div.sk-text-repr-fallback {display: none;}</style><div id=\"sk-container-id-23\" class=\"sk-top-container\"><div class=\"sk-text-repr-fallback\"><pre>LogisticRegression(C=0.75, max_iter=100000, random_state=0)</pre><b>In a Jupyter environment, please rerun this cell to show the HTML representation or trust the notebook. <br />On GitHub, the HTML representation is unable to render, please try loading this page with nbviewer.org.</b></div><div class=\"sk-container\" hidden><div class=\"sk-item\"><div class=\"sk-estimator sk-toggleable\"><input class=\"sk-toggleable__control sk-hidden--visually\" id=\"sk-estimator-id-23\" type=\"checkbox\" checked><label for=\"sk-estimator-id-23\" class=\"sk-toggleable__label sk-toggleable__label-arrow\">LogisticRegression</label><div class=\"sk-toggleable__content\"><pre>LogisticRegression(C=0.75, max_iter=100000, random_state=0)</pre></div></div></div></div></div>"
            ],
            "text/plain": [
              "LogisticRegression(C=0.75, max_iter=100000, random_state=0)"
            ]
          },
          "execution_count": 306,
          "metadata": {},
          "output_type": "execute_result"
        }
      ],
      "source": [
        "# fit the model\n",
        "logreg.fit(X_train,y_train)"
      ]
    },
    {
      "cell_type": "code",
      "execution_count": null,
      "id": "b1289a39",
      "metadata": {
        "id": "b1289a39",
        "outputId": "d39dcacb-95b4-4396-89d7-d9e17e9311c7"
      },
      "outputs": [
        {
          "name": "stdout",
          "output_type": "stream",
          "text": [
            "logreg acc in train: 78.09%\n",
            "logreg acc in test: 76.27%\n"
          ]
        }
      ],
      "source": [
        "# check accuracy\n",
        "print('logreg acc in train: {:.2%}'.format(logreg.score(X_train,y_train)))\n",
        "print('logreg acc in test: {:.2%}'.format(logreg.score(X_test,y_test)))\n"
      ]
    },
    {
      "cell_type": "markdown",
      "id": "e3f1c3ec",
      "metadata": {
        "id": "e3f1c3ec"
      },
      "source": [
        "## SVM"
      ]
    },
    {
      "cell_type": "code",
      "execution_count": null,
      "id": "e90232ef",
      "metadata": {
        "id": "e90232ef"
      },
      "outputs": [],
      "source": [
        "from sklearn.svm import LinearSVC"
      ]
    },
    {
      "cell_type": "code",
      "execution_count": null,
      "id": "1141672f",
      "metadata": {
        "id": "1141672f",
        "outputId": "6ca19446-1d91-491a-a004-fe7e30bb9be5"
      },
      "outputs": [
        {
          "data": {
            "text/plain": [
              "array([[0.68292683, 0.        , 0.        , ..., 0.        , 0.        ,\n",
              "        0.        ],\n",
              "       [0.95121951, 0.        , 0.        , ..., 0.        , 0.        ,\n",
              "        0.        ],\n",
              "       [0.84146341, 1.        , 0.        , ..., 0.        , 0.        ,\n",
              "        1.        ],\n",
              "       ...,\n",
              "       [0.97560976, 1.        , 0.        , ..., 0.        , 1.        ,\n",
              "        0.        ],\n",
              "       [0.96341463, 0.        , 1.        , ..., 0.        , 0.        ,\n",
              "        1.        ],\n",
              "       [0.69512195, 0.        , 0.        , ..., 0.        , 0.        ,\n",
              "        0.        ]])"
            ]
          },
          "execution_count": 309,
          "metadata": {},
          "output_type": "execute_result"
        }
      ],
      "source": [
        "# define and fit scaler\n",
        "scaler1=MinMaxScaler()\n",
        "X_stroke_trns=scaler1.fit_transform(X_dummy)\n",
        "X_stroke_trns"
      ]
    },
    {
      "cell_type": "code",
      "execution_count": null,
      "id": "33e1690d",
      "metadata": {
        "scrolled": true,
        "id": "33e1690d",
        "outputId": "40bccff4-3340-4d3f-e289-7e13d9c78c7c"
      },
      "outputs": [
        {
          "name": "stderr",
          "output_type": "stream",
          "text": [
            "/Users/bellamolau/anaconda3/lib/python3.11/site-packages/sklearn/svm/_classes.py:32: FutureWarning: The default value of `dual` will change from `True` to `'auto'` in 1.5. Set the value of `dual` explicitly to suppress the warning.\n",
            "  warnings.warn(\n",
            "/Users/bellamolau/anaconda3/lib/python3.11/site-packages/sklearn/svm/_classes.py:32: FutureWarning: The default value of `dual` will change from `True` to `'auto'` in 1.5. Set the value of `dual` explicitly to suppress the warning.\n",
            "  warnings.warn(\n",
            "/Users/bellamolau/anaconda3/lib/python3.11/site-packages/sklearn/svm/_classes.py:32: FutureWarning: The default value of `dual` will change from `True` to `'auto'` in 1.5. Set the value of `dual` explicitly to suppress the warning.\n",
            "  warnings.warn(\n",
            "/Users/bellamolau/anaconda3/lib/python3.11/site-packages/sklearn/svm/_classes.py:32: FutureWarning: The default value of `dual` will change from `True` to `'auto'` in 1.5. Set the value of `dual` explicitly to suppress the warning.\n",
            "  warnings.warn(\n",
            "/Users/bellamolau/anaconda3/lib/python3.11/site-packages/sklearn/svm/_classes.py:32: FutureWarning: The default value of `dual` will change from `True` to `'auto'` in 1.5. Set the value of `dual` explicitly to suppress the warning.\n",
            "  warnings.warn(\n",
            "/Users/bellamolau/anaconda3/lib/python3.11/site-packages/sklearn/svm/_classes.py:32: FutureWarning: The default value of `dual` will change from `True` to `'auto'` in 1.5. Set the value of `dual` explicitly to suppress the warning.\n",
            "  warnings.warn(\n",
            "/Users/bellamolau/anaconda3/lib/python3.11/site-packages/sklearn/svm/_classes.py:32: FutureWarning: The default value of `dual` will change from `True` to `'auto'` in 1.5. Set the value of `dual` explicitly to suppress the warning.\n",
            "  warnings.warn(\n",
            "/Users/bellamolau/anaconda3/lib/python3.11/site-packages/sklearn/svm/_classes.py:32: FutureWarning: The default value of `dual` will change from `True` to `'auto'` in 1.5. Set the value of `dual` explicitly to suppress the warning.\n",
            "  warnings.warn(\n",
            "/Users/bellamolau/anaconda3/lib/python3.11/site-packages/sklearn/svm/_classes.py:32: FutureWarning: The default value of `dual` will change from `True` to `'auto'` in 1.5. Set the value of `dual` explicitly to suppress the warning.\n",
            "  warnings.warn(\n",
            "/Users/bellamolau/anaconda3/lib/python3.11/site-packages/sklearn/svm/_classes.py:32: FutureWarning: The default value of `dual` will change from `True` to `'auto'` in 1.5. Set the value of `dual` explicitly to suppress the warning.\n",
            "  warnings.warn(\n",
            "/Users/bellamolau/anaconda3/lib/python3.11/site-packages/sklearn/svm/_classes.py:32: FutureWarning: The default value of `dual` will change from `True` to `'auto'` in 1.5. Set the value of `dual` explicitly to suppress the warning.\n",
            "  warnings.warn(\n",
            "/Users/bellamolau/anaconda3/lib/python3.11/site-packages/sklearn/svm/_classes.py:32: FutureWarning: The default value of `dual` will change from `True` to `'auto'` in 1.5. Set the value of `dual` explicitly to suppress the warning.\n",
            "  warnings.warn(\n",
            "/Users/bellamolau/anaconda3/lib/python3.11/site-packages/sklearn/svm/_classes.py:32: FutureWarning: The default value of `dual` will change from `True` to `'auto'` in 1.5. Set the value of `dual` explicitly to suppress the warning.\n",
            "  warnings.warn(\n",
            "/Users/bellamolau/anaconda3/lib/python3.11/site-packages/sklearn/svm/_classes.py:32: FutureWarning: The default value of `dual` will change from `True` to `'auto'` in 1.5. Set the value of `dual` explicitly to suppress the warning.\n",
            "  warnings.warn(\n",
            "/Users/bellamolau/anaconda3/lib/python3.11/site-packages/sklearn/svm/_classes.py:32: FutureWarning: The default value of `dual` will change from `True` to `'auto'` in 1.5. Set the value of `dual` explicitly to suppress the warning.\n",
            "  warnings.warn(\n",
            "/Users/bellamolau/anaconda3/lib/python3.11/site-packages/sklearn/svm/_classes.py:32: FutureWarning: The default value of `dual` will change from `True` to `'auto'` in 1.5. Set the value of `dual` explicitly to suppress the warning.\n",
            "  warnings.warn(\n",
            "/Users/bellamolau/anaconda3/lib/python3.11/site-packages/sklearn/svm/_classes.py:32: FutureWarning: The default value of `dual` will change from `True` to `'auto'` in 1.5. Set the value of `dual` explicitly to suppress the warning.\n",
            "  warnings.warn(\n",
            "/Users/bellamolau/anaconda3/lib/python3.11/site-packages/sklearn/svm/_classes.py:32: FutureWarning: The default value of `dual` will change from `True` to `'auto'` in 1.5. Set the value of `dual` explicitly to suppress the warning.\n",
            "  warnings.warn(\n",
            "/Users/bellamolau/anaconda3/lib/python3.11/site-packages/sklearn/svm/_classes.py:32: FutureWarning: The default value of `dual` will change from `True` to `'auto'` in 1.5. Set the value of `dual` explicitly to suppress the warning.\n",
            "  warnings.warn(\n",
            "/Users/bellamolau/anaconda3/lib/python3.11/site-packages/sklearn/svm/_classes.py:32: FutureWarning: The default value of `dual` will change from `True` to `'auto'` in 1.5. Set the value of `dual` explicitly to suppress the warning.\n",
            "  warnings.warn(\n",
            "/Users/bellamolau/anaconda3/lib/python3.11/site-packages/sklearn/svm/_classes.py:32: FutureWarning: The default value of `dual` will change from `True` to `'auto'` in 1.5. Set the value of `dual` explicitly to suppress the warning.\n",
            "  warnings.warn(\n",
            "/Users/bellamolau/anaconda3/lib/python3.11/site-packages/sklearn/svm/_classes.py:32: FutureWarning: The default value of `dual` will change from `True` to `'auto'` in 1.5. Set the value of `dual` explicitly to suppress the warning.\n",
            "  warnings.warn(\n",
            "/Users/bellamolau/anaconda3/lib/python3.11/site-packages/sklearn/svm/_classes.py:32: FutureWarning: The default value of `dual` will change from `True` to `'auto'` in 1.5. Set the value of `dual` explicitly to suppress the warning.\n",
            "  warnings.warn(\n",
            "/Users/bellamolau/anaconda3/lib/python3.11/site-packages/sklearn/svm/_classes.py:32: FutureWarning: The default value of `dual` will change from `True` to `'auto'` in 1.5. Set the value of `dual` explicitly to suppress the warning.\n",
            "  warnings.warn(\n",
            "/Users/bellamolau/anaconda3/lib/python3.11/site-packages/sklearn/svm/_classes.py:32: FutureWarning: The default value of `dual` will change from `True` to `'auto'` in 1.5. Set the value of `dual` explicitly to suppress the warning.\n",
            "  warnings.warn(\n",
            "/Users/bellamolau/anaconda3/lib/python3.11/site-packages/sklearn/svm/_classes.py:32: FutureWarning: The default value of `dual` will change from `True` to `'auto'` in 1.5. Set the value of `dual` explicitly to suppress the warning.\n",
            "  warnings.warn(\n",
            "/Users/bellamolau/anaconda3/lib/python3.11/site-packages/sklearn/svm/_classes.py:32: FutureWarning: The default value of `dual` will change from `True` to `'auto'` in 1.5. Set the value of `dual` explicitly to suppress the warning.\n",
            "  warnings.warn(\n",
            "/Users/bellamolau/anaconda3/lib/python3.11/site-packages/sklearn/svm/_classes.py:32: FutureWarning: The default value of `dual` will change from `True` to `'auto'` in 1.5. Set the value of `dual` explicitly to suppress the warning.\n",
            "  warnings.warn(\n",
            "/Users/bellamolau/anaconda3/lib/python3.11/site-packages/sklearn/svm/_classes.py:32: FutureWarning: The default value of `dual` will change from `True` to `'auto'` in 1.5. Set the value of `dual` explicitly to suppress the warning.\n",
            "  warnings.warn(\n",
            "/Users/bellamolau/anaconda3/lib/python3.11/site-packages/sklearn/svm/_classes.py:32: FutureWarning: The default value of `dual` will change from `True` to `'auto'` in 1.5. Set the value of `dual` explicitly to suppress the warning.\n",
            "  warnings.warn(\n",
            "/Users/bellamolau/anaconda3/lib/python3.11/site-packages/sklearn/svm/_classes.py:32: FutureWarning: The default value of `dual` will change from `True` to `'auto'` in 1.5. Set the value of `dual` explicitly to suppress the warning.\n",
            "  warnings.warn(\n",
            "/Users/bellamolau/anaconda3/lib/python3.11/site-packages/sklearn/svm/_classes.py:32: FutureWarning: The default value of `dual` will change from `True` to `'auto'` in 1.5. Set the value of `dual` explicitly to suppress the warning.\n",
            "  warnings.warn(\n",
            "/Users/bellamolau/anaconda3/lib/python3.11/site-packages/sklearn/svm/_classes.py:32: FutureWarning: The default value of `dual` will change from `True` to `'auto'` in 1.5. Set the value of `dual` explicitly to suppress the warning.\n",
            "  warnings.warn(\n",
            "/Users/bellamolau/anaconda3/lib/python3.11/site-packages/sklearn/svm/_classes.py:32: FutureWarning: The default value of `dual` will change from `True` to `'auto'` in 1.5. Set the value of `dual` explicitly to suppress the warning.\n",
            "  warnings.warn(\n",
            "/Users/bellamolau/anaconda3/lib/python3.11/site-packages/sklearn/svm/_classes.py:32: FutureWarning: The default value of `dual` will change from `True` to `'auto'` in 1.5. Set the value of `dual` explicitly to suppress the warning.\n",
            "  warnings.warn(\n",
            "/Users/bellamolau/anaconda3/lib/python3.11/site-packages/sklearn/svm/_classes.py:32: FutureWarning: The default value of `dual` will change from `True` to `'auto'` in 1.5. Set the value of `dual` explicitly to suppress the warning.\n",
            "  warnings.warn(\n",
            "/Users/bellamolau/anaconda3/lib/python3.11/site-packages/sklearn/svm/_classes.py:32: FutureWarning: The default value of `dual` will change from `True` to `'auto'` in 1.5. Set the value of `dual` explicitly to suppress the warning.\n",
            "  warnings.warn(\n",
            "/Users/bellamolau/anaconda3/lib/python3.11/site-packages/sklearn/svm/_classes.py:32: FutureWarning: The default value of `dual` will change from `True` to `'auto'` in 1.5. Set the value of `dual` explicitly to suppress the warning.\n",
            "  warnings.warn(\n"
          ]
        },
        {
          "name": "stderr",
          "output_type": "stream",
          "text": [
            "/Users/bellamolau/anaconda3/lib/python3.11/site-packages/sklearn/svm/_classes.py:32: FutureWarning: The default value of `dual` will change from `True` to `'auto'` in 1.5. Set the value of `dual` explicitly to suppress the warning.\n",
            "  warnings.warn(\n",
            "/Users/bellamolau/anaconda3/lib/python3.11/site-packages/sklearn/svm/_classes.py:32: FutureWarning: The default value of `dual` will change from `True` to `'auto'` in 1.5. Set the value of `dual` explicitly to suppress the warning.\n",
            "  warnings.warn(\n"
          ]
        }
      ],
      "source": [
        "#validation curve\n",
        "train_scores_svm,test_scores_svm=validation_curve(LinearSVC(random_state=0, max_iter=1000000),X_stroke_trns,y_stroke,\n",
        "                                          param_name='C',\n",
        "                                          param_range=[.1,.25,.5,.75,1,5,10,15],cv=5)"
      ]
    },
    {
      "cell_type": "code",
      "execution_count": null,
      "id": "a994338b",
      "metadata": {
        "id": "a994338b",
        "outputId": "64961f34-b386-44d9-dd9c-41f60d4bdb88"
      },
      "outputs": [
        {
          "data": {
            "text/plain": [
              "array([[0.785 , 0.7842, 0.7729, 0.775 , 0.7821],\n",
              "       [0.7871, 0.7829, 0.77  , 0.7729, 0.7867],\n",
              "       [0.7879, 0.7821, 0.7671, 0.7738, 0.7837],\n",
              "       [0.7883, 0.7783, 0.7671, 0.7738, 0.7842],\n",
              "       [0.7879, 0.7783, 0.7671, 0.7738, 0.7842],\n",
              "       [0.7883, 0.7792, 0.7671, 0.7746, 0.7842],\n",
              "       [0.7883, 0.7775, 0.7679, 0.7746, 0.7842],\n",
              "       [0.7883, 0.7775, 0.7679, 0.7746, 0.7837]])"
            ]
          },
          "execution_count": 311,
          "metadata": {},
          "output_type": "execute_result"
        }
      ],
      "source": [
        "train_scores_svm.round(4)"
      ]
    },
    {
      "cell_type": "code",
      "execution_count": null,
      "id": "73d73970",
      "metadata": {
        "id": "73d73970",
        "outputId": "df789175-c353-401a-831e-46d9d864262d"
      },
      "outputs": [
        {
          "data": {
            "text/plain": [
              "array([[0.7467, 0.775 , 0.7983, 0.7733, 0.7617],\n",
              "       [0.7567, 0.78  , 0.7967, 0.77  , 0.7733],\n",
              "       [0.7583, 0.78  , 0.795 , 0.77  , 0.7717],\n",
              "       [0.7583, 0.7783, 0.7933, 0.7683, 0.7717],\n",
              "       [0.7583, 0.7783, 0.7933, 0.7683, 0.7717],\n",
              "       [0.7583, 0.78  , 0.7933, 0.7683, 0.7717],\n",
              "       [0.7583, 0.7767, 0.7933, 0.7683, 0.7717],\n",
              "       [0.7583, 0.7767, 0.7933, 0.7683, 0.7717]])"
            ]
          },
          "execution_count": 312,
          "metadata": {},
          "output_type": "execute_result"
        }
      ],
      "source": [
        "test_scores_svm.round(4)"
      ]
    },
    {
      "cell_type": "code",
      "execution_count": null,
      "id": "49b17263",
      "metadata": {
        "scrolled": true,
        "id": "49b17263",
        "outputId": "55fc9a3f-aefa-4ef4-981d-9ec99a44a3a6"
      },
      "outputs": [
        {
          "name": "stdout",
          "output_type": "stream",
          "text": [
            "mean train scores across 5 folds [0.7798 0.7799 0.7789 0.7783 0.7783 0.7787 0.7785 0.7784]\n",
            "mean test scores across 5 folds [0.771  0.7753 0.775  0.774  0.774  0.7743 0.7737 0.7737]\n"
          ]
        }
      ],
      "source": [
        "#find best\n",
        "print('mean train scores across 5 folds',train_scores_svm.mean(axis=1).round(4))\n",
        "print('mean test scores across 5 folds',test_scores_svm.mean(axis=1).round(4))\n",
        "# C=0.1 is best"
      ]
    },
    {
      "cell_type": "code",
      "execution_count": null,
      "id": "cc8f6b4d",
      "metadata": {
        "scrolled": true,
        "id": "cc8f6b4d",
        "outputId": "efd8d3f7-e42f-4068-9157-ed3dfe4d5f12"
      },
      "outputs": [
        {
          "name": "stderr",
          "output_type": "stream",
          "text": [
            "/Users/bellamolau/anaconda3/lib/python3.11/site-packages/sklearn/svm/_classes.py:32: FutureWarning: The default value of `dual` will change from `True` to `'auto'` in 1.5. Set the value of `dual` explicitly to suppress the warning.\n",
            "  warnings.warn(\n"
          ]
        },
        {
          "data": {
            "text/html": [
              "<style>#sk-container-id-24 {color: black;}#sk-container-id-24 pre{padding: 0;}#sk-container-id-24 div.sk-toggleable {background-color: white;}#sk-container-id-24 label.sk-toggleable__label {cursor: pointer;display: block;width: 100%;margin-bottom: 0;padding: 0.3em;box-sizing: border-box;text-align: center;}#sk-container-id-24 label.sk-toggleable__label-arrow:before {content: \"▸\";float: left;margin-right: 0.25em;color: #696969;}#sk-container-id-24 label.sk-toggleable__label-arrow:hover:before {color: black;}#sk-container-id-24 div.sk-estimator:hover label.sk-toggleable__label-arrow:before {color: black;}#sk-container-id-24 div.sk-toggleable__content {max-height: 0;max-width: 0;overflow: hidden;text-align: left;background-color: #f0f8ff;}#sk-container-id-24 div.sk-toggleable__content pre {margin: 0.2em;color: black;border-radius: 0.25em;background-color: #f0f8ff;}#sk-container-id-24 input.sk-toggleable__control:checked~div.sk-toggleable__content {max-height: 200px;max-width: 100%;overflow: auto;}#sk-container-id-24 input.sk-toggleable__control:checked~label.sk-toggleable__label-arrow:before {content: \"▾\";}#sk-container-id-24 div.sk-estimator input.sk-toggleable__control:checked~label.sk-toggleable__label {background-color: #d4ebff;}#sk-container-id-24 div.sk-label input.sk-toggleable__control:checked~label.sk-toggleable__label {background-color: #d4ebff;}#sk-container-id-24 input.sk-hidden--visually {border: 0;clip: rect(1px 1px 1px 1px);clip: rect(1px, 1px, 1px, 1px);height: 1px;margin: -1px;overflow: hidden;padding: 0;position: absolute;width: 1px;}#sk-container-id-24 div.sk-estimator {font-family: monospace;background-color: #f0f8ff;border: 1px dotted black;border-radius: 0.25em;box-sizing: border-box;margin-bottom: 0.5em;}#sk-container-id-24 div.sk-estimator:hover {background-color: #d4ebff;}#sk-container-id-24 div.sk-parallel-item::after {content: \"\";width: 100%;border-bottom: 1px solid gray;flex-grow: 1;}#sk-container-id-24 div.sk-label:hover label.sk-toggleable__label {background-color: #d4ebff;}#sk-container-id-24 div.sk-serial::before {content: \"\";position: absolute;border-left: 1px solid gray;box-sizing: border-box;top: 0;bottom: 0;left: 50%;z-index: 0;}#sk-container-id-24 div.sk-serial {display: flex;flex-direction: column;align-items: center;background-color: white;padding-right: 0.2em;padding-left: 0.2em;position: relative;}#sk-container-id-24 div.sk-item {position: relative;z-index: 1;}#sk-container-id-24 div.sk-parallel {display: flex;align-items: stretch;justify-content: center;background-color: white;position: relative;}#sk-container-id-24 div.sk-item::before, #sk-container-id-24 div.sk-parallel-item::before {content: \"\";position: absolute;border-left: 1px solid gray;box-sizing: border-box;top: 0;bottom: 0;left: 50%;z-index: -1;}#sk-container-id-24 div.sk-parallel-item {display: flex;flex-direction: column;z-index: 1;position: relative;background-color: white;}#sk-container-id-24 div.sk-parallel-item:first-child::after {align-self: flex-end;width: 50%;}#sk-container-id-24 div.sk-parallel-item:last-child::after {align-self: flex-start;width: 50%;}#sk-container-id-24 div.sk-parallel-item:only-child::after {width: 0;}#sk-container-id-24 div.sk-dashed-wrapped {border: 1px dashed gray;margin: 0 0.4em 0.5em 0.4em;box-sizing: border-box;padding-bottom: 0.4em;background-color: white;}#sk-container-id-24 div.sk-label label {font-family: monospace;font-weight: bold;display: inline-block;line-height: 1.2em;}#sk-container-id-24 div.sk-label-container {text-align: center;}#sk-container-id-24 div.sk-container {/* jupyter's `normalize.less` sets `[hidden] { display: none; }` but bootstrap.min.css set `[hidden] { display: none !important; }` so we also need the `!important` here to be able to override the default hidden behavior on the sphinx rendered scikit-learn.org. See: https://github.com/scikit-learn/scikit-learn/issues/21755 */display: inline-block !important;position: relative;}#sk-container-id-24 div.sk-text-repr-fallback {display: none;}</style><div id=\"sk-container-id-24\" class=\"sk-top-container\"><div class=\"sk-text-repr-fallback\"><pre>LinearSVC(C=0.1, max_iter=1000000, random_state=0)</pre><b>In a Jupyter environment, please rerun this cell to show the HTML representation or trust the notebook. <br />On GitHub, the HTML representation is unable to render, please try loading this page with nbviewer.org.</b></div><div class=\"sk-container\" hidden><div class=\"sk-item\"><div class=\"sk-estimator sk-toggleable\"><input class=\"sk-toggleable__control sk-hidden--visually\" id=\"sk-estimator-id-24\" type=\"checkbox\" checked><label for=\"sk-estimator-id-24\" class=\"sk-toggleable__label sk-toggleable__label-arrow\">LinearSVC</label><div class=\"sk-toggleable__content\"><pre>LinearSVC(C=0.1, max_iter=1000000, random_state=0)</pre></div></div></div></div></div>"
            ],
            "text/plain": [
              "LinearSVC(C=0.1, max_iter=1000000, random_state=0)"
            ]
          },
          "execution_count": 314,
          "metadata": {},
          "output_type": "execute_result"
        }
      ],
      "source": [
        "# define and fit the model\n",
        "svm=LinearSVC(C=.1,max_iter=1000000,random_state=0)\n",
        "svm.fit(X_train,y_train)"
      ]
    },
    {
      "cell_type": "code",
      "execution_count": null,
      "id": "594232c3",
      "metadata": {
        "id": "594232c3",
        "outputId": "2f2537bb-9367-4397-e029-31aa411810be"
      },
      "outputs": [
        {
          "name": "stdout",
          "output_type": "stream",
          "text": [
            "svm acc on train: 78.00%\n",
            "svm acc on test: 76.67%\n"
          ]
        }
      ],
      "source": [
        "print('svm acc on train: {:.2%}'.format(svm.score(X_train,y_train)))\n",
        "print('svm acc on test: {:.2%}'.format(svm.score(X_test,y_test)))\n"
      ]
    },
    {
      "cell_type": "markdown",
      "id": "86982159",
      "metadata": {
        "id": "86982159"
      },
      "source": [
        "## Decision Tree"
      ]
    },
    {
      "cell_type": "code",
      "execution_count": null,
      "id": "46213e21",
      "metadata": {
        "id": "46213e21"
      },
      "outputs": [],
      "source": [
        "from sklearn.tree import DecisionTreeClassifier, export_graphviz"
      ]
    },
    {
      "cell_type": "code",
      "execution_count": null,
      "id": "26cd2d24",
      "metadata": {
        "id": "26cd2d24"
      },
      "outputs": [],
      "source": [
        "#validation curve for max leaf node\n",
        "train_scores_dt,test_scores_dt=validation_curve(DecisionTreeClassifier(random_state=0),\n",
        "                                         X_train,y_train,param_name='max_leaf_nodes',\n",
        "                                          param_range=[10,20,30,40,50,75,100,150,200,250],cv=5)"
      ]
    },
    {
      "cell_type": "code",
      "execution_count": null,
      "id": "8a48154a",
      "metadata": {
        "id": "8a48154a",
        "outputId": "ae635e5c-8458-4c71-c584-ce027913a9bd"
      },
      "outputs": [
        {
          "name": "stdout",
          "output_type": "stream",
          "text": [
            "avg train acc for each param val: [0.802 0.844 0.866 0.883 0.898 0.928 0.947 0.982 1.    1.   ]\n",
            "avg test acc for each param val: [0.781 0.816 0.834 0.846 0.857 0.868 0.887 0.909 0.924 0.924]\n"
          ]
        }
      ],
      "source": [
        "#max leaf nodes\n",
        "print('avg train acc for each param val:', train_scores_dt.mean(axis=1).round(3))\n",
        "print('avg test acc for each param val:', test_scores_dt.mean(axis=1).round(3))\n",
        "\n",
        "#max_leaf_nodes=200 is the optimized parameter but in favor of readability we have\n",
        "#sacrificed accuracy by selecting max_leaf_nodes=30 for our decision tree"
      ]
    },
    {
      "cell_type": "code",
      "execution_count": null,
      "id": "7765a1c4",
      "metadata": {
        "id": "7765a1c4"
      },
      "outputs": [],
      "source": [
        "#create model\n",
        "dt=DecisionTreeClassifier(max_leaf_nodes=30,random_state=0)\n"
      ]
    },
    {
      "cell_type": "code",
      "execution_count": null,
      "id": "544de9e8",
      "metadata": {
        "id": "544de9e8",
        "outputId": "db711a70-6fbb-4fb4-fbde-38946ebe71b4"
      },
      "outputs": [
        {
          "data": {
            "text/html": [
              "<style>#sk-container-id-25 {color: black;}#sk-container-id-25 pre{padding: 0;}#sk-container-id-25 div.sk-toggleable {background-color: white;}#sk-container-id-25 label.sk-toggleable__label {cursor: pointer;display: block;width: 100%;margin-bottom: 0;padding: 0.3em;box-sizing: border-box;text-align: center;}#sk-container-id-25 label.sk-toggleable__label-arrow:before {content: \"▸\";float: left;margin-right: 0.25em;color: #696969;}#sk-container-id-25 label.sk-toggleable__label-arrow:hover:before {color: black;}#sk-container-id-25 div.sk-estimator:hover label.sk-toggleable__label-arrow:before {color: black;}#sk-container-id-25 div.sk-toggleable__content {max-height: 0;max-width: 0;overflow: hidden;text-align: left;background-color: #f0f8ff;}#sk-container-id-25 div.sk-toggleable__content pre {margin: 0.2em;color: black;border-radius: 0.25em;background-color: #f0f8ff;}#sk-container-id-25 input.sk-toggleable__control:checked~div.sk-toggleable__content {max-height: 200px;max-width: 100%;overflow: auto;}#sk-container-id-25 input.sk-toggleable__control:checked~label.sk-toggleable__label-arrow:before {content: \"▾\";}#sk-container-id-25 div.sk-estimator input.sk-toggleable__control:checked~label.sk-toggleable__label {background-color: #d4ebff;}#sk-container-id-25 div.sk-label input.sk-toggleable__control:checked~label.sk-toggleable__label {background-color: #d4ebff;}#sk-container-id-25 input.sk-hidden--visually {border: 0;clip: rect(1px 1px 1px 1px);clip: rect(1px, 1px, 1px, 1px);height: 1px;margin: -1px;overflow: hidden;padding: 0;position: absolute;width: 1px;}#sk-container-id-25 div.sk-estimator {font-family: monospace;background-color: #f0f8ff;border: 1px dotted black;border-radius: 0.25em;box-sizing: border-box;margin-bottom: 0.5em;}#sk-container-id-25 div.sk-estimator:hover {background-color: #d4ebff;}#sk-container-id-25 div.sk-parallel-item::after {content: \"\";width: 100%;border-bottom: 1px solid gray;flex-grow: 1;}#sk-container-id-25 div.sk-label:hover label.sk-toggleable__label {background-color: #d4ebff;}#sk-container-id-25 div.sk-serial::before {content: \"\";position: absolute;border-left: 1px solid gray;box-sizing: border-box;top: 0;bottom: 0;left: 50%;z-index: 0;}#sk-container-id-25 div.sk-serial {display: flex;flex-direction: column;align-items: center;background-color: white;padding-right: 0.2em;padding-left: 0.2em;position: relative;}#sk-container-id-25 div.sk-item {position: relative;z-index: 1;}#sk-container-id-25 div.sk-parallel {display: flex;align-items: stretch;justify-content: center;background-color: white;position: relative;}#sk-container-id-25 div.sk-item::before, #sk-container-id-25 div.sk-parallel-item::before {content: \"\";position: absolute;border-left: 1px solid gray;box-sizing: border-box;top: 0;bottom: 0;left: 50%;z-index: -1;}#sk-container-id-25 div.sk-parallel-item {display: flex;flex-direction: column;z-index: 1;position: relative;background-color: white;}#sk-container-id-25 div.sk-parallel-item:first-child::after {align-self: flex-end;width: 50%;}#sk-container-id-25 div.sk-parallel-item:last-child::after {align-self: flex-start;width: 50%;}#sk-container-id-25 div.sk-parallel-item:only-child::after {width: 0;}#sk-container-id-25 div.sk-dashed-wrapped {border: 1px dashed gray;margin: 0 0.4em 0.5em 0.4em;box-sizing: border-box;padding-bottom: 0.4em;background-color: white;}#sk-container-id-25 div.sk-label label {font-family: monospace;font-weight: bold;display: inline-block;line-height: 1.2em;}#sk-container-id-25 div.sk-label-container {text-align: center;}#sk-container-id-25 div.sk-container {/* jupyter's `normalize.less` sets `[hidden] { display: none; }` but bootstrap.min.css set `[hidden] { display: none !important; }` so we also need the `!important` here to be able to override the default hidden behavior on the sphinx rendered scikit-learn.org. See: https://github.com/scikit-learn/scikit-learn/issues/21755 */display: inline-block !important;position: relative;}#sk-container-id-25 div.sk-text-repr-fallback {display: none;}</style><div id=\"sk-container-id-25\" class=\"sk-top-container\"><div class=\"sk-text-repr-fallback\"><pre>DecisionTreeClassifier(max_leaf_nodes=30, random_state=0)</pre><b>In a Jupyter environment, please rerun this cell to show the HTML representation or trust the notebook. <br />On GitHub, the HTML representation is unable to render, please try loading this page with nbviewer.org.</b></div><div class=\"sk-container\" hidden><div class=\"sk-item\"><div class=\"sk-estimator sk-toggleable\"><input class=\"sk-toggleable__control sk-hidden--visually\" id=\"sk-estimator-id-25\" type=\"checkbox\" checked><label for=\"sk-estimator-id-25\" class=\"sk-toggleable__label sk-toggleable__label-arrow\">DecisionTreeClassifier</label><div class=\"sk-toggleable__content\"><pre>DecisionTreeClassifier(max_leaf_nodes=30, random_state=0)</pre></div></div></div></div></div>"
            ],
            "text/plain": [
              "DecisionTreeClassifier(max_leaf_nodes=30, random_state=0)"
            ]
          },
          "execution_count": 320,
          "metadata": {},
          "output_type": "execute_result"
        }
      ],
      "source": [
        "# fit model(s)\n",
        "dt.fit(X_train,y_train)"
      ]
    },
    {
      "cell_type": "code",
      "execution_count": null,
      "id": "ebb48e8f",
      "metadata": {
        "id": "ebb48e8f",
        "outputId": "0e4e84ca-96de-4ab5-bbb5-060c7d74f6c3"
      },
      "outputs": [
        {
          "name": "stdout",
          "output_type": "stream",
          "text": [
            "dt acc on train: 85.42%\n",
            "dt acc on test: 78.93%\n"
          ]
        }
      ],
      "source": [
        "# evaluate and pick between the two\n",
        "print('dt acc on train: {:.2%}'.format(dt.score(X_train,y_train)))\n",
        "print('dt acc on test: {:.2%}'.format(dt.score(X_test,y_test)))"
      ]
    },
    {
      "cell_type": "code",
      "execution_count": null,
      "id": "831e0e54",
      "metadata": {
        "scrolled": true,
        "id": "831e0e54",
        "outputId": "083a81b5-dd5c-4877-d867-68053b697ced"
      },
      "outputs": [
        {
          "data": {
            "text/html": [
              "<div>\n",
              "<style scoped>\n",
              "    .dataframe tbody tr th:only-of-type {\n",
              "        vertical-align: middle;\n",
              "    }\n",
              "\n",
              "    .dataframe tbody tr th {\n",
              "        vertical-align: top;\n",
              "    }\n",
              "\n",
              "    .dataframe thead th {\n",
              "        text-align: right;\n",
              "    }\n",
              "</style>\n",
              "<table border=\"1\" class=\"dataframe\">\n",
              "  <thead>\n",
              "    <tr style=\"text-align: right;\">\n",
              "      <th></th>\n",
              "      <th>importance</th>\n",
              "    </tr>\n",
              "  </thead>\n",
              "  <tbody>\n",
              "    <tr>\n",
              "      <th>age</th>\n",
              "      <td>0.736</td>\n",
              "    </tr>\n",
              "    <tr>\n",
              "      <th>avg_glucose_level</th>\n",
              "      <td>0.097</td>\n",
              "    </tr>\n",
              "    <tr>\n",
              "      <th>bmi</th>\n",
              "      <td>0.066</td>\n",
              "    </tr>\n",
              "    <tr>\n",
              "      <th>smoking_status_never smoked</th>\n",
              "      <td>0.025</td>\n",
              "    </tr>\n",
              "    <tr>\n",
              "      <th>ever_married_Yes</th>\n",
              "      <td>0.017</td>\n",
              "    </tr>\n",
              "    <tr>\n",
              "      <th>smoking_status_formerly smoked</th>\n",
              "      <td>0.017</td>\n",
              "    </tr>\n",
              "    <tr>\n",
              "      <th>smoking_status_smokes</th>\n",
              "      <td>0.011</td>\n",
              "    </tr>\n",
              "    <tr>\n",
              "      <th>gender_Female</th>\n",
              "      <td>0.011</td>\n",
              "    </tr>\n",
              "    <tr>\n",
              "      <th>work_type_Govt_job</th>\n",
              "      <td>0.010</td>\n",
              "    </tr>\n",
              "    <tr>\n",
              "      <th>work_type_Private</th>\n",
              "      <td>0.009</td>\n",
              "    </tr>\n",
              "    <tr>\n",
              "      <th>ever_married_No</th>\n",
              "      <td>0.000</td>\n",
              "    </tr>\n",
              "    <tr>\n",
              "      <th>gender_Male</th>\n",
              "      <td>0.000</td>\n",
              "    </tr>\n",
              "    <tr>\n",
              "      <th>hypertension</th>\n",
              "      <td>0.000</td>\n",
              "    </tr>\n",
              "    <tr>\n",
              "      <th>work_type_Self-employed</th>\n",
              "      <td>0.000</td>\n",
              "    </tr>\n",
              "    <tr>\n",
              "      <th>work_type_children</th>\n",
              "      <td>0.000</td>\n",
              "    </tr>\n",
              "    <tr>\n",
              "      <th>Residence_type_Rural</th>\n",
              "      <td>0.000</td>\n",
              "    </tr>\n",
              "    <tr>\n",
              "      <th>Residence_type_Urban</th>\n",
              "      <td>0.000</td>\n",
              "    </tr>\n",
              "    <tr>\n",
              "      <th>smoking_status_Unknown</th>\n",
              "      <td>0.000</td>\n",
              "    </tr>\n",
              "    <tr>\n",
              "      <th>heart_disease</th>\n",
              "      <td>0.000</td>\n",
              "    </tr>\n",
              "  </tbody>\n",
              "</table>\n",
              "</div>"
            ],
            "text/plain": [
              "                                importance\n",
              "age                                  0.736\n",
              "avg_glucose_level                    0.097\n",
              "bmi                                  0.066\n",
              "smoking_status_never smoked          0.025\n",
              "ever_married_Yes                     0.017\n",
              "smoking_status_formerly smoked       0.017\n",
              "smoking_status_smokes                0.011\n",
              "gender_Female                        0.011\n",
              "work_type_Govt_job                   0.010\n",
              "work_type_Private                    0.009\n",
              "ever_married_No                      0.000\n",
              "gender_Male                          0.000\n",
              "hypertension                         0.000\n",
              "work_type_Self-employed              0.000\n",
              "work_type_children                   0.000\n",
              "Residence_type_Rural                 0.000\n",
              "Residence_type_Urban                 0.000\n",
              "smoking_status_Unknown               0.000\n",
              "heart_disease                        0.000"
            ]
          },
          "execution_count": 322,
          "metadata": {},
          "output_type": "execute_result"
        }
      ],
      "source": [
        "# feature importance\n",
        "feat_imp=pd.DataFrame(data=dt.feature_importances_.round(3),\n",
        "                      index=X_train.columns,\n",
        "                     columns=['importance'])\n",
        "feat_imp.sort_values('importance',ascending=False)"
      ]
    },
    {
      "cell_type": "code",
      "execution_count": null,
      "id": "7033bdcf",
      "metadata": {
        "id": "7033bdcf"
      },
      "outputs": [],
      "source": [
        "#webgraphviz.com\n",
        "export_graphviz(dt, out_file='dectree_vis.dot', feature_names=X_train.columns,filled=True,)"
      ]
    },
    {
      "cell_type": "markdown",
      "id": "9b968e62",
      "metadata": {
        "id": "9b968e62"
      },
      "source": [
        "## Random Forest"
      ]
    },
    {
      "cell_type": "code",
      "execution_count": null,
      "id": "6888d20e",
      "metadata": {
        "id": "6888d20e"
      },
      "outputs": [],
      "source": [
        "#validation curve\n",
        "train_scores_rf,test_scores_rf=validation_curve(RandomForestClassifier(random_state=0),X_train,y_train,\n",
        "                                         param_name='n_estimators',param_range=[50,100,150,200,250],cv=5)"
      ]
    },
    {
      "cell_type": "code",
      "execution_count": null,
      "id": "113b80c1",
      "metadata": {
        "id": "113b80c1",
        "outputId": "b38b81fb-bb6b-4f04-ab90-1421142facf6"
      },
      "outputs": [
        {
          "name": "stdout",
          "output_type": "stream",
          "text": [
            "avg train acc for each param val: [1. 1. 1. 1. 1.]\n",
            "avg test acc for each param val: [0.932 0.928 0.928 0.928 0.929]\n"
          ]
        }
      ],
      "source": [
        "#selecting optimal parameter\n",
        "print('avg train acc for each param val:', train_scores_rf.mean(axis=1).round(3))\n",
        "print('avg test acc for each param val:', test_scores_rf.mean(axis=1).round(3))\n",
        "\n",
        "#n_estimators = 50 is best"
      ]
    },
    {
      "cell_type": "code",
      "execution_count": null,
      "id": "a9a5f533",
      "metadata": {
        "id": "a9a5f533",
        "outputId": "0ef890f4-d349-44ea-b22c-4a123da38a58"
      },
      "outputs": [
        {
          "data": {
            "text/html": [
              "<style>#sk-container-id-26 {color: black;}#sk-container-id-26 pre{padding: 0;}#sk-container-id-26 div.sk-toggleable {background-color: white;}#sk-container-id-26 label.sk-toggleable__label {cursor: pointer;display: block;width: 100%;margin-bottom: 0;padding: 0.3em;box-sizing: border-box;text-align: center;}#sk-container-id-26 label.sk-toggleable__label-arrow:before {content: \"▸\";float: left;margin-right: 0.25em;color: #696969;}#sk-container-id-26 label.sk-toggleable__label-arrow:hover:before {color: black;}#sk-container-id-26 div.sk-estimator:hover label.sk-toggleable__label-arrow:before {color: black;}#sk-container-id-26 div.sk-toggleable__content {max-height: 0;max-width: 0;overflow: hidden;text-align: left;background-color: #f0f8ff;}#sk-container-id-26 div.sk-toggleable__content pre {margin: 0.2em;color: black;border-radius: 0.25em;background-color: #f0f8ff;}#sk-container-id-26 input.sk-toggleable__control:checked~div.sk-toggleable__content {max-height: 200px;max-width: 100%;overflow: auto;}#sk-container-id-26 input.sk-toggleable__control:checked~label.sk-toggleable__label-arrow:before {content: \"▾\";}#sk-container-id-26 div.sk-estimator input.sk-toggleable__control:checked~label.sk-toggleable__label {background-color: #d4ebff;}#sk-container-id-26 div.sk-label input.sk-toggleable__control:checked~label.sk-toggleable__label {background-color: #d4ebff;}#sk-container-id-26 input.sk-hidden--visually {border: 0;clip: rect(1px 1px 1px 1px);clip: rect(1px, 1px, 1px, 1px);height: 1px;margin: -1px;overflow: hidden;padding: 0;position: absolute;width: 1px;}#sk-container-id-26 div.sk-estimator {font-family: monospace;background-color: #f0f8ff;border: 1px dotted black;border-radius: 0.25em;box-sizing: border-box;margin-bottom: 0.5em;}#sk-container-id-26 div.sk-estimator:hover {background-color: #d4ebff;}#sk-container-id-26 div.sk-parallel-item::after {content: \"\";width: 100%;border-bottom: 1px solid gray;flex-grow: 1;}#sk-container-id-26 div.sk-label:hover label.sk-toggleable__label {background-color: #d4ebff;}#sk-container-id-26 div.sk-serial::before {content: \"\";position: absolute;border-left: 1px solid gray;box-sizing: border-box;top: 0;bottom: 0;left: 50%;z-index: 0;}#sk-container-id-26 div.sk-serial {display: flex;flex-direction: column;align-items: center;background-color: white;padding-right: 0.2em;padding-left: 0.2em;position: relative;}#sk-container-id-26 div.sk-item {position: relative;z-index: 1;}#sk-container-id-26 div.sk-parallel {display: flex;align-items: stretch;justify-content: center;background-color: white;position: relative;}#sk-container-id-26 div.sk-item::before, #sk-container-id-26 div.sk-parallel-item::before {content: \"\";position: absolute;border-left: 1px solid gray;box-sizing: border-box;top: 0;bottom: 0;left: 50%;z-index: -1;}#sk-container-id-26 div.sk-parallel-item {display: flex;flex-direction: column;z-index: 1;position: relative;background-color: white;}#sk-container-id-26 div.sk-parallel-item:first-child::after {align-self: flex-end;width: 50%;}#sk-container-id-26 div.sk-parallel-item:last-child::after {align-self: flex-start;width: 50%;}#sk-container-id-26 div.sk-parallel-item:only-child::after {width: 0;}#sk-container-id-26 div.sk-dashed-wrapped {border: 1px dashed gray;margin: 0 0.4em 0.5em 0.4em;box-sizing: border-box;padding-bottom: 0.4em;background-color: white;}#sk-container-id-26 div.sk-label label {font-family: monospace;font-weight: bold;display: inline-block;line-height: 1.2em;}#sk-container-id-26 div.sk-label-container {text-align: center;}#sk-container-id-26 div.sk-container {/* jupyter's `normalize.less` sets `[hidden] { display: none; }` but bootstrap.min.css set `[hidden] { display: none !important; }` so we also need the `!important` here to be able to override the default hidden behavior on the sphinx rendered scikit-learn.org. See: https://github.com/scikit-learn/scikit-learn/issues/21755 */display: inline-block !important;position: relative;}#sk-container-id-26 div.sk-text-repr-fallback {display: none;}</style><div id=\"sk-container-id-26\" class=\"sk-top-container\"><div class=\"sk-text-repr-fallback\"><pre>RandomForestClassifier(n_estimators=50, random_state=0)</pre><b>In a Jupyter environment, please rerun this cell to show the HTML representation or trust the notebook. <br />On GitHub, the HTML representation is unable to render, please try loading this page with nbviewer.org.</b></div><div class=\"sk-container\" hidden><div class=\"sk-item\"><div class=\"sk-estimator sk-toggleable\"><input class=\"sk-toggleable__control sk-hidden--visually\" id=\"sk-estimator-id-26\" type=\"checkbox\" checked><label for=\"sk-estimator-id-26\" class=\"sk-toggleable__label sk-toggleable__label-arrow\">RandomForestClassifier</label><div class=\"sk-toggleable__content\"><pre>RandomForestClassifier(n_estimators=50, random_state=0)</pre></div></div></div></div></div>"
            ],
            "text/plain": [
              "RandomForestClassifier(n_estimators=50, random_state=0)"
            ]
          },
          "execution_count": 326,
          "metadata": {},
          "output_type": "execute_result"
        }
      ],
      "source": [
        "# create and fit the model (use best from decision tree)\n",
        "rf=RandomForestClassifier(n_estimators=50,random_state=0)\n",
        "rf.fit(X_train,y_train)"
      ]
    },
    {
      "cell_type": "code",
      "execution_count": null,
      "id": "42482067",
      "metadata": {
        "id": "42482067",
        "outputId": "aacb3337-8a82-488b-e3d4-bb3c889039c8"
      },
      "outputs": [
        {
          "name": "stdout",
          "output_type": "stream",
          "text": [
            "rf acc on train: 100.00%\n",
            "rf acc on test: 96.27%\n"
          ]
        }
      ],
      "source": [
        "# evaluate the performance\n",
        "print('rf acc on train: {:.2%}'.format(rf.score(X_train,y_train)))\n",
        "print('rf acc on test: {:.2%}'.format(rf.score(X_test,y_test)))"
      ]
    },
    {
      "cell_type": "code",
      "execution_count": null,
      "id": "1ca1808f",
      "metadata": {
        "id": "1ca1808f",
        "outputId": "ecbb9ad7-6715-4068-ce57-3b2826da55d9"
      },
      "outputs": [
        {
          "data": {
            "text/html": [
              "<div>\n",
              "<style scoped>\n",
              "    .dataframe tbody tr th:only-of-type {\n",
              "        vertical-align: middle;\n",
              "    }\n",
              "\n",
              "    .dataframe tbody tr th {\n",
              "        vertical-align: top;\n",
              "    }\n",
              "\n",
              "    .dataframe thead th {\n",
              "        text-align: right;\n",
              "    }\n",
              "</style>\n",
              "<table border=\"1\" class=\"dataframe\">\n",
              "  <thead>\n",
              "    <tr style=\"text-align: right;\">\n",
              "      <th></th>\n",
              "      <th>importance</th>\n",
              "    </tr>\n",
              "  </thead>\n",
              "  <tbody>\n",
              "    <tr>\n",
              "      <th>age</th>\n",
              "      <td>0.344</td>\n",
              "    </tr>\n",
              "    <tr>\n",
              "      <th>avg_glucose_level</th>\n",
              "      <td>0.200</td>\n",
              "    </tr>\n",
              "    <tr>\n",
              "      <th>bmi</th>\n",
              "      <td>0.169</td>\n",
              "    </tr>\n",
              "    <tr>\n",
              "      <th>hypertension</th>\n",
              "      <td>0.033</td>\n",
              "    </tr>\n",
              "    <tr>\n",
              "      <th>ever_married_Yes</th>\n",
              "      <td>0.024</td>\n",
              "    </tr>\n",
              "    <tr>\n",
              "      <th>ever_married_No</th>\n",
              "      <td>0.023</td>\n",
              "    </tr>\n",
              "    <tr>\n",
              "      <th>heart_disease</th>\n",
              "      <td>0.022</td>\n",
              "    </tr>\n",
              "    <tr>\n",
              "      <th>smoking_status_formerly smoked</th>\n",
              "      <td>0.020</td>\n",
              "    </tr>\n",
              "    <tr>\n",
              "      <th>smoking_status_never smoked</th>\n",
              "      <td>0.019</td>\n",
              "    </tr>\n",
              "    <tr>\n",
              "      <th>work_type_Private</th>\n",
              "      <td>0.018</td>\n",
              "    </tr>\n",
              "    <tr>\n",
              "      <th>Residence_type_Rural</th>\n",
              "      <td>0.016</td>\n",
              "    </tr>\n",
              "    <tr>\n",
              "      <th>Residence_type_Urban</th>\n",
              "      <td>0.016</td>\n",
              "    </tr>\n",
              "    <tr>\n",
              "      <th>work_type_Govt_job</th>\n",
              "      <td>0.015</td>\n",
              "    </tr>\n",
              "    <tr>\n",
              "      <th>work_type_Self-employed</th>\n",
              "      <td>0.015</td>\n",
              "    </tr>\n",
              "    <tr>\n",
              "      <th>gender_Male</th>\n",
              "      <td>0.015</td>\n",
              "    </tr>\n",
              "    <tr>\n",
              "      <th>smoking_status_smokes</th>\n",
              "      <td>0.015</td>\n",
              "    </tr>\n",
              "    <tr>\n",
              "      <th>gender_Female</th>\n",
              "      <td>0.014</td>\n",
              "    </tr>\n",
              "    <tr>\n",
              "      <th>smoking_status_Unknown</th>\n",
              "      <td>0.013</td>\n",
              "    </tr>\n",
              "    <tr>\n",
              "      <th>work_type_children</th>\n",
              "      <td>0.008</td>\n",
              "    </tr>\n",
              "  </tbody>\n",
              "</table>\n",
              "</div>"
            ],
            "text/plain": [
              "                                importance\n",
              "age                                  0.344\n",
              "avg_glucose_level                    0.200\n",
              "bmi                                  0.169\n",
              "hypertension                         0.033\n",
              "ever_married_Yes                     0.024\n",
              "ever_married_No                      0.023\n",
              "heart_disease                        0.022\n",
              "smoking_status_formerly smoked       0.020\n",
              "smoking_status_never smoked          0.019\n",
              "work_type_Private                    0.018\n",
              "Residence_type_Rural                 0.016\n",
              "Residence_type_Urban                 0.016\n",
              "work_type_Govt_job                   0.015\n",
              "work_type_Self-employed              0.015\n",
              "gender_Male                          0.015\n",
              "smoking_status_smokes                0.015\n",
              "gender_Female                        0.014\n",
              "smoking_status_Unknown               0.013\n",
              "work_type_children                   0.008"
            ]
          },
          "execution_count": 328,
          "metadata": {},
          "output_type": "execute_result"
        }
      ],
      "source": [
        "# feature importance\n",
        "rf_feat_imp=pd.DataFrame(data=rf.feature_importances_.round(3), index=X_dummy.columns, columns=['importance'])\n",
        "rf_feat_imp.sort_values(by=['importance'], ascending=False)"
      ]
    },
    {
      "cell_type": "code",
      "execution_count": null,
      "id": "1b7c722b",
      "metadata": {
        "id": "1b7c722b"
      },
      "outputs": [],
      "source": []
    },
    {
      "cell_type": "markdown",
      "id": "45daab9e",
      "metadata": {
        "id": "45daab9e"
      },
      "source": [
        "## Comparing Accuracy for all"
      ]
    },
    {
      "cell_type": "code",
      "execution_count": null,
      "id": "e45c4d65",
      "metadata": {
        "id": "e45c4d65",
        "outputId": "8228e6f7-dda3-42be-ae66-1129f776ce58"
      },
      "outputs": [
        {
          "name": "stdout",
          "output_type": "stream",
          "text": [
            "knn acc on train: 100.00%\n",
            "knn acc on test: 93.60%\n",
            "logreg acc in train: 78.09%\n",
            "logreg acc in test: 76.27%\n",
            "svm acc on train: 78.00%\n",
            "svm acc on test: 76.67%\n",
            "dt acc on train: 85.42%\n",
            "dt acc on test: 78.93%\n",
            "rf acc on train: 100.00%\n",
            "rf acc on test: 96.27%\n"
          ]
        }
      ],
      "source": [
        "print('knn acc on train: {:.2%}'.format(knn.score(X_train.values,y_train.values)))\n",
        "print('knn acc on test: {:.2%}'.format(knn.score(X_test.values,y_test.values)))\n",
        "\n",
        "print('logreg acc in train: {:.2%}'.format(logreg.score(X_train,y_train)))\n",
        "print('logreg acc in test: {:.2%}'.format(logreg.score(X_test,y_test)))\n",
        "\n",
        "print('svm acc on train: {:.2%}'.format(svm.score(X_train,y_train)))\n",
        "print('svm acc on test: {:.2%}'.format(svm.score(X_test,y_test)))\n",
        "\n",
        "print('dt acc on train: {:.2%}'.format(dt.score(X_train,y_train)))\n",
        "print('dt acc on test: {:.2%}'.format(dt.score(X_test,y_test)))\n",
        "\n",
        "print('rf acc on train: {:.2%}'.format(rf.score(X_train,y_train)))\n",
        "print('rf acc on test: {:.2%}'.format(rf.score(X_test,y_test)))"
      ]
    },
    {
      "cell_type": "markdown",
      "id": "f4df6bfd",
      "metadata": {
        "id": "f4df6bfd"
      },
      "source": [
        "### Selecting best models:\n",
        "    - The RandomForest model is the most accurate on test with a rating of 96.27%\n",
        "    - The KNN model is close being with an accuracy rate of 93.60%"
      ]
    },
    {
      "cell_type": "markdown",
      "id": "d91caf84",
      "metadata": {
        "id": "d91caf84"
      },
      "source": [
        "## Prediction Time\n",
        "    - Will be conducting predictions for KNN and RandomForest\n",
        "    - Will use 3 patients from the test data"
      ]
    },
    {
      "cell_type": "code",
      "execution_count": null,
      "id": "df69f16e",
      "metadata": {
        "id": "df69f16e",
        "outputId": "aed5ba10-e54a-482d-ce6c-fdf267d2201c"
      },
      "outputs": [
        {
          "data": {
            "text/html": [
              "<div>\n",
              "<style scoped>\n",
              "    .dataframe tbody tr th:only-of-type {\n",
              "        vertical-align: middle;\n",
              "    }\n",
              "\n",
              "    .dataframe tbody tr th {\n",
              "        vertical-align: top;\n",
              "    }\n",
              "\n",
              "    .dataframe thead th {\n",
              "        text-align: right;\n",
              "    }\n",
              "</style>\n",
              "<table border=\"1\" class=\"dataframe\">\n",
              "  <thead>\n",
              "    <tr style=\"text-align: right;\">\n",
              "      <th></th>\n",
              "      <th>age</th>\n",
              "      <th>hypertension</th>\n",
              "      <th>heart_disease</th>\n",
              "      <th>avg_glucose_level</th>\n",
              "      <th>bmi</th>\n",
              "      <th>gender_Female</th>\n",
              "      <th>gender_Male</th>\n",
              "      <th>ever_married_No</th>\n",
              "      <th>ever_married_Yes</th>\n",
              "      <th>work_type_Govt_job</th>\n",
              "      <th>work_type_Private</th>\n",
              "      <th>work_type_Self-employed</th>\n",
              "      <th>work_type_children</th>\n",
              "      <th>Residence_type_Rural</th>\n",
              "      <th>Residence_type_Urban</th>\n",
              "      <th>smoking_status_Unknown</th>\n",
              "      <th>smoking_status_formerly smoked</th>\n",
              "      <th>smoking_status_never smoked</th>\n",
              "      <th>smoking_status_smokes</th>\n",
              "    </tr>\n",
              "  </thead>\n",
              "  <tbody>\n",
              "    <tr>\n",
              "      <th>520</th>\n",
              "      <td>54</td>\n",
              "      <td>0</td>\n",
              "      <td>0</td>\n",
              "      <td>107.47</td>\n",
              "      <td>29.3</td>\n",
              "      <td>1</td>\n",
              "      <td>0</td>\n",
              "      <td>0</td>\n",
              "      <td>1</td>\n",
              "      <td>0</td>\n",
              "      <td>0</td>\n",
              "      <td>1</td>\n",
              "      <td>0</td>\n",
              "      <td>0</td>\n",
              "      <td>1</td>\n",
              "      <td>0</td>\n",
              "      <td>1</td>\n",
              "      <td>0</td>\n",
              "      <td>0</td>\n",
              "    </tr>\n",
              "    <tr>\n",
              "      <th>114</th>\n",
              "      <td>76</td>\n",
              "      <td>1</td>\n",
              "      <td>0</td>\n",
              "      <td>194.37</td>\n",
              "      <td>27.0</td>\n",
              "      <td>0</td>\n",
              "      <td>1</td>\n",
              "      <td>0</td>\n",
              "      <td>1</td>\n",
              "      <td>0</td>\n",
              "      <td>0</td>\n",
              "      <td>1</td>\n",
              "      <td>0</td>\n",
              "      <td>1</td>\n",
              "      <td>0</td>\n",
              "      <td>0</td>\n",
              "      <td>1</td>\n",
              "      <td>0</td>\n",
              "      <td>0</td>\n",
              "    </tr>\n",
              "    <tr>\n",
              "      <th>2031</th>\n",
              "      <td>31</td>\n",
              "      <td>0</td>\n",
              "      <td>0</td>\n",
              "      <td>206.59</td>\n",
              "      <td>41.4</td>\n",
              "      <td>1</td>\n",
              "      <td>0</td>\n",
              "      <td>0</td>\n",
              "      <td>1</td>\n",
              "      <td>0</td>\n",
              "      <td>0</td>\n",
              "      <td>1</td>\n",
              "      <td>0</td>\n",
              "      <td>0</td>\n",
              "      <td>1</td>\n",
              "      <td>0</td>\n",
              "      <td>0</td>\n",
              "      <td>0</td>\n",
              "      <td>1</td>\n",
              "    </tr>\n",
              "  </tbody>\n",
              "</table>\n",
              "</div>"
            ],
            "text/plain": [
              "      age  hypertension  heart_disease  avg_glucose_level   bmi  \\\n",
              "520    54             0              0             107.47  29.3   \n",
              "114    76             1              0             194.37  27.0   \n",
              "2031   31             0              0             206.59  41.4   \n",
              "\n",
              "      gender_Female  gender_Male  ever_married_No  ever_married_Yes  \\\n",
              "520               1            0                0                 1   \n",
              "114               0            1                0                 1   \n",
              "2031              1            0                0                 1   \n",
              "\n",
              "      work_type_Govt_job  work_type_Private  work_type_Self-employed  \\\n",
              "520                    0                  0                        1   \n",
              "114                    0                  0                        1   \n",
              "2031                   0                  0                        1   \n",
              "\n",
              "      work_type_children  Residence_type_Rural  Residence_type_Urban  \\\n",
              "520                    0                     0                     1   \n",
              "114                    0                     1                     0   \n",
              "2031                   0                     0                     1   \n",
              "\n",
              "      smoking_status_Unknown  smoking_status_formerly smoked  \\\n",
              "520                        0                               1   \n",
              "114                        0                               1   \n",
              "2031                       0                               0   \n",
              "\n",
              "      smoking_status_never smoked  smoking_status_smokes  \n",
              "520                             0                      0  \n",
              "114                             0                      0  \n",
              "2031                            0                      1  "
            ]
          },
          "execution_count": 330,
          "metadata": {},
          "output_type": "execute_result"
        }
      ],
      "source": [
        "# randomizing order of test to select 3 patients for prediction data at random\n",
        "X_test_sample=X_test.sample(frac=1,random_state=0)\n",
        "X_test_sample.head(3)"
      ]
    },
    {
      "cell_type": "code",
      "execution_count": null,
      "id": "9925b53f",
      "metadata": {
        "id": "9925b53f"
      },
      "outputs": [],
      "source": [
        "# creating p's\n",
        "p1=[54,0,0,107.47,29.3,1,0,0,1,0,0,1,0,0,1,0,1,0,0]\n",
        "\n",
        "p2=[76,1,0,194.37,27.0,0,1,0,1,0,0,1,0,1,0,0,1,0,0]\n",
        "\n",
        "p3=[31,0,0,206.59,41.4,1,0,0,1,0,0,1,0,0,1,0,0,0,1]"
      ]
    },
    {
      "cell_type": "code",
      "execution_count": null,
      "id": "ea62cdb9",
      "metadata": {
        "id": "ea62cdb9",
        "outputId": "282a0352-923a-4404-ee98-74231f4ca116"
      },
      "outputs": [
        {
          "data": {
            "text/html": [
              "<div>\n",
              "<style scoped>\n",
              "    .dataframe tbody tr th:only-of-type {\n",
              "        vertical-align: middle;\n",
              "    }\n",
              "\n",
              "    .dataframe tbody tr th {\n",
              "        vertical-align: top;\n",
              "    }\n",
              "\n",
              "    .dataframe thead th {\n",
              "        text-align: right;\n",
              "    }\n",
              "</style>\n",
              "<table border=\"1\" class=\"dataframe\">\n",
              "  <thead>\n",
              "    <tr style=\"text-align: right;\">\n",
              "      <th></th>\n",
              "      <th>gender</th>\n",
              "      <th>age</th>\n",
              "      <th>hypertension</th>\n",
              "      <th>heart_disease</th>\n",
              "      <th>ever_married</th>\n",
              "      <th>work_type</th>\n",
              "      <th>Residence_type</th>\n",
              "      <th>avg_glucose_level</th>\n",
              "      <th>bmi</th>\n",
              "      <th>smoking_status</th>\n",
              "      <th>stroke</th>\n",
              "    </tr>\n",
              "  </thead>\n",
              "  <tbody>\n",
              "    <tr>\n",
              "      <th>520</th>\n",
              "      <td>Female</td>\n",
              "      <td>54.0</td>\n",
              "      <td>0</td>\n",
              "      <td>0</td>\n",
              "      <td>Yes</td>\n",
              "      <td>Self-employed</td>\n",
              "      <td>Urban</td>\n",
              "      <td>107.47</td>\n",
              "      <td>29.3</td>\n",
              "      <td>formerly smoked</td>\n",
              "      <td>0</td>\n",
              "    </tr>\n",
              "  </tbody>\n",
              "</table>\n",
              "</div>"
            ],
            "text/plain": [
              "     gender   age  hypertension  heart_disease ever_married      work_type  \\\n",
              "520  Female  54.0             0              0          Yes  Self-employed   \n",
              "\n",
              "    Residence_type  avg_glucose_level   bmi   smoking_status  stroke  \n",
              "520          Urban             107.47  29.3  formerly smoked       0  "
            ]
          },
          "execution_count": 332,
          "metadata": {},
          "output_type": "execute_result"
        }
      ],
      "source": [
        "# checking for p1 real result\n",
        "stroke_bal.loc[[520]].head(1)\n",
        "#stroke=0"
      ]
    },
    {
      "cell_type": "code",
      "execution_count": null,
      "id": "1b156519",
      "metadata": {
        "scrolled": false,
        "id": "1b156519",
        "outputId": "42202700-b3fe-405e-a32a-1c18e3683fd3"
      },
      "outputs": [
        {
          "data": {
            "text/html": [
              "<div>\n",
              "<style scoped>\n",
              "    .dataframe tbody tr th:only-of-type {\n",
              "        vertical-align: middle;\n",
              "    }\n",
              "\n",
              "    .dataframe tbody tr th {\n",
              "        vertical-align: top;\n",
              "    }\n",
              "\n",
              "    .dataframe thead th {\n",
              "        text-align: right;\n",
              "    }\n",
              "</style>\n",
              "<table border=\"1\" class=\"dataframe\">\n",
              "  <thead>\n",
              "    <tr style=\"text-align: right;\">\n",
              "      <th></th>\n",
              "      <th>gender</th>\n",
              "      <th>age</th>\n",
              "      <th>hypertension</th>\n",
              "      <th>heart_disease</th>\n",
              "      <th>ever_married</th>\n",
              "      <th>work_type</th>\n",
              "      <th>Residence_type</th>\n",
              "      <th>avg_glucose_level</th>\n",
              "      <th>bmi</th>\n",
              "      <th>smoking_status</th>\n",
              "      <th>stroke</th>\n",
              "    </tr>\n",
              "  </thead>\n",
              "  <tbody>\n",
              "    <tr>\n",
              "      <th>114</th>\n",
              "      <td>Male</td>\n",
              "      <td>76.0</td>\n",
              "      <td>1</td>\n",
              "      <td>0</td>\n",
              "      <td>Yes</td>\n",
              "      <td>Self-employed</td>\n",
              "      <td>Rural</td>\n",
              "      <td>194.37</td>\n",
              "      <td>27.0</td>\n",
              "      <td>formerly smoked</td>\n",
              "      <td>1</td>\n",
              "    </tr>\n",
              "  </tbody>\n",
              "</table>\n",
              "</div>"
            ],
            "text/plain": [
              "    gender   age  hypertension  heart_disease ever_married      work_type  \\\n",
              "114   Male  76.0             1              0          Yes  Self-employed   \n",
              "\n",
              "    Residence_type  avg_glucose_level   bmi   smoking_status  stroke  \n",
              "114          Rural             194.37  27.0  formerly smoked       1  "
            ]
          },
          "execution_count": 333,
          "metadata": {},
          "output_type": "execute_result"
        }
      ],
      "source": [
        "# checking for p2 real result\n",
        "stroke_bal.loc[[114]].head(1)\n",
        "#stroke=1"
      ]
    },
    {
      "cell_type": "code",
      "execution_count": null,
      "id": "54cef5df",
      "metadata": {
        "id": "54cef5df",
        "outputId": "df3a518b-d54f-4105-a1e0-f81ae1f29d81"
      },
      "outputs": [
        {
          "data": {
            "text/html": [
              "<div>\n",
              "<style scoped>\n",
              "    .dataframe tbody tr th:only-of-type {\n",
              "        vertical-align: middle;\n",
              "    }\n",
              "\n",
              "    .dataframe tbody tr th {\n",
              "        vertical-align: top;\n",
              "    }\n",
              "\n",
              "    .dataframe thead th {\n",
              "        text-align: right;\n",
              "    }\n",
              "</style>\n",
              "<table border=\"1\" class=\"dataframe\">\n",
              "  <thead>\n",
              "    <tr style=\"text-align: right;\">\n",
              "      <th></th>\n",
              "      <th>gender</th>\n",
              "      <th>age</th>\n",
              "      <th>hypertension</th>\n",
              "      <th>heart_disease</th>\n",
              "      <th>ever_married</th>\n",
              "      <th>work_type</th>\n",
              "      <th>Residence_type</th>\n",
              "      <th>avg_glucose_level</th>\n",
              "      <th>bmi</th>\n",
              "      <th>smoking_status</th>\n",
              "      <th>stroke</th>\n",
              "    </tr>\n",
              "  </thead>\n",
              "  <tbody>\n",
              "    <tr>\n",
              "      <th>2031</th>\n",
              "      <td>Female</td>\n",
              "      <td>31.0</td>\n",
              "      <td>0</td>\n",
              "      <td>0</td>\n",
              "      <td>Yes</td>\n",
              "      <td>Self-employed</td>\n",
              "      <td>Urban</td>\n",
              "      <td>206.59</td>\n",
              "      <td>41.4</td>\n",
              "      <td>smokes</td>\n",
              "      <td>0</td>\n",
              "    </tr>\n",
              "  </tbody>\n",
              "</table>\n",
              "</div>"
            ],
            "text/plain": [
              "      gender   age  hypertension  heart_disease ever_married      work_type  \\\n",
              "2031  Female  31.0             0              0          Yes  Self-employed   \n",
              "\n",
              "     Residence_type  avg_glucose_level   bmi smoking_status  stroke  \n",
              "2031          Urban             206.59  41.4         smokes       0  "
            ]
          },
          "execution_count": 334,
          "metadata": {},
          "output_type": "execute_result"
        }
      ],
      "source": [
        "# checking for p3 real result\n",
        "stroke_bal.loc[[2031]]\n",
        "#stroke=0"
      ]
    },
    {
      "cell_type": "markdown",
      "id": "16f76f49",
      "metadata": {
        "id": "16f76f49"
      },
      "source": [
        "### KNN prediction"
      ]
    },
    {
      "cell_type": "code",
      "execution_count": null,
      "id": "101a6ced",
      "metadata": {
        "id": "101a6ced",
        "outputId": "f2945449-b04c-4da7-8044-215fec472422"
      },
      "outputs": [
        {
          "data": {
            "text/plain": [
              "array(['0'], dtype=object)"
            ]
          },
          "execution_count": 335,
          "metadata": {},
          "output_type": "execute_result"
        }
      ],
      "source": [
        "# prediction for p1\n",
        "knn.predict([p1])\n",
        "#correct"
      ]
    },
    {
      "cell_type": "code",
      "execution_count": null,
      "id": "1255a555",
      "metadata": {
        "id": "1255a555",
        "outputId": "52a102ef-6b5b-4480-cfef-4f0acd0eac45"
      },
      "outputs": [
        {
          "data": {
            "text/plain": [
              "array(['1'], dtype=object)"
            ]
          },
          "execution_count": 336,
          "metadata": {},
          "output_type": "execute_result"
        }
      ],
      "source": [
        "# prediction for p2\n",
        "knn.predict([p2])\n",
        "#correct"
      ]
    },
    {
      "cell_type": "code",
      "execution_count": null,
      "id": "198c7e8f",
      "metadata": {
        "id": "198c7e8f",
        "outputId": "0a3f0395-e930-4f48-af0f-ceb0ccb82754"
      },
      "outputs": [
        {
          "data": {
            "text/plain": [
              "array(['0'], dtype=object)"
            ]
          },
          "execution_count": 337,
          "metadata": {},
          "output_type": "execute_result"
        }
      ],
      "source": [
        "# prediction for p3\n",
        "knn.predict([p3])\n",
        "#correct"
      ]
    },
    {
      "cell_type": "markdown",
      "id": "6520a277",
      "metadata": {
        "id": "6520a277"
      },
      "source": [
        "### RandomForest Prediction"
      ]
    },
    {
      "cell_type": "code",
      "execution_count": null,
      "id": "a35c4289",
      "metadata": {
        "id": "a35c4289",
        "outputId": "f9c03fdc-1896-42dd-c279-1b90853a3431"
      },
      "outputs": [
        {
          "name": "stderr",
          "output_type": "stream",
          "text": [
            "/Users/bellamolau/anaconda3/lib/python3.11/site-packages/sklearn/base.py:464: UserWarning: X does not have valid feature names, but RandomForestClassifier was fitted with feature names\n",
            "  warnings.warn(\n"
          ]
        },
        {
          "data": {
            "text/plain": [
              "array(['0'], dtype=object)"
            ]
          },
          "execution_count": 338,
          "metadata": {},
          "output_type": "execute_result"
        }
      ],
      "source": [
        "# prediction for p1\n",
        "rf.predict([p1])\n",
        "#correct"
      ]
    },
    {
      "cell_type": "code",
      "execution_count": null,
      "id": "d9d83f75",
      "metadata": {
        "id": "d9d83f75",
        "outputId": "2d0b23c3-c05a-4554-e1c7-7adc8a53a17b"
      },
      "outputs": [
        {
          "name": "stderr",
          "output_type": "stream",
          "text": [
            "/Users/bellamolau/anaconda3/lib/python3.11/site-packages/sklearn/base.py:464: UserWarning: X does not have valid feature names, but RandomForestClassifier was fitted with feature names\n",
            "  warnings.warn(\n"
          ]
        },
        {
          "data": {
            "text/plain": [
              "array(['1'], dtype=object)"
            ]
          },
          "execution_count": 339,
          "metadata": {},
          "output_type": "execute_result"
        }
      ],
      "source": [
        "# prediction for p2\n",
        "rf.predict([p2])\n",
        "#correct"
      ]
    },
    {
      "cell_type": "code",
      "execution_count": null,
      "id": "dde5305e",
      "metadata": {
        "id": "dde5305e",
        "outputId": "164db00b-f3f6-43d4-fb3d-5752dc972999"
      },
      "outputs": [
        {
          "name": "stderr",
          "output_type": "stream",
          "text": [
            "/Users/bellamolau/anaconda3/lib/python3.11/site-packages/sklearn/base.py:464: UserWarning: X does not have valid feature names, but RandomForestClassifier was fitted with feature names\n",
            "  warnings.warn(\n"
          ]
        },
        {
          "data": {
            "text/plain": [
              "array(['0'], dtype=object)"
            ]
          },
          "execution_count": 340,
          "metadata": {},
          "output_type": "execute_result"
        }
      ],
      "source": [
        "# prediction for p3\n",
        "rf.predict([p3])\n",
        "#correct"
      ]
    },
    {
      "cell_type": "code",
      "execution_count": null,
      "id": "d8ce09a1",
      "metadata": {
        "id": "d8ce09a1"
      },
      "outputs": [],
      "source": []
    },
    {
      "cell_type": "code",
      "execution_count": null,
      "id": "157092e2",
      "metadata": {
        "id": "157092e2"
      },
      "outputs": [],
      "source": []
    },
    {
      "cell_type": "code",
      "execution_count": null,
      "id": "b02eeb72",
      "metadata": {
        "id": "b02eeb72"
      },
      "outputs": [],
      "source": []
    },
    {
      "cell_type": "markdown",
      "id": "117c34b8",
      "metadata": {
        "id": "117c34b8"
      },
      "source": [
        "    - next predictions are not necessary just comparing"
      ]
    },
    {
      "cell_type": "markdown",
      "id": "0de8717b",
      "metadata": {
        "id": "0de8717b"
      },
      "source": [
        "### SVM prediction"
      ]
    },
    {
      "cell_type": "code",
      "execution_count": null,
      "id": "ab27c29a",
      "metadata": {
        "id": "ab27c29a",
        "outputId": "64ec43b8-7735-46d1-e7cf-701a48d7923b"
      },
      "outputs": [
        {
          "name": "stderr",
          "output_type": "stream",
          "text": [
            "/Users/bellamolau/anaconda3/lib/python3.11/site-packages/sklearn/base.py:464: UserWarning: X does not have valid feature names, but LinearSVC was fitted with feature names\n",
            "  warnings.warn(\n"
          ]
        },
        {
          "data": {
            "text/plain": [
              "array(['0'], dtype=object)"
            ]
          },
          "execution_count": 341,
          "metadata": {},
          "output_type": "execute_result"
        }
      ],
      "source": [
        "# prediction for p1\n",
        "svm.predict([p1])\n",
        "#correct"
      ]
    },
    {
      "cell_type": "code",
      "execution_count": null,
      "id": "cc443211",
      "metadata": {
        "id": "cc443211",
        "outputId": "13dd5562-01ae-40f5-ad74-e509b3480cc0"
      },
      "outputs": [
        {
          "name": "stderr",
          "output_type": "stream",
          "text": [
            "/Users/bellamolau/anaconda3/lib/python3.11/site-packages/sklearn/base.py:464: UserWarning: X does not have valid feature names, but LinearSVC was fitted with feature names\n",
            "  warnings.warn(\n"
          ]
        },
        {
          "data": {
            "text/plain": [
              "array(['1'], dtype=object)"
            ]
          },
          "execution_count": 342,
          "metadata": {},
          "output_type": "execute_result"
        }
      ],
      "source": [
        "# prediction for p2\n",
        "svm.predict([p2])\n",
        "#correct"
      ]
    },
    {
      "cell_type": "code",
      "execution_count": null,
      "id": "fe3d3c87",
      "metadata": {
        "id": "fe3d3c87",
        "outputId": "b6aa31ce-ce85-4329-f6e5-65331e5039e1"
      },
      "outputs": [
        {
          "name": "stderr",
          "output_type": "stream",
          "text": [
            "/Users/bellamolau/anaconda3/lib/python3.11/site-packages/sklearn/base.py:464: UserWarning: X does not have valid feature names, but LinearSVC was fitted with feature names\n",
            "  warnings.warn(\n"
          ]
        },
        {
          "data": {
            "text/plain": [
              "array(['0'], dtype=object)"
            ]
          },
          "execution_count": 343,
          "metadata": {},
          "output_type": "execute_result"
        }
      ],
      "source": [
        "# prediction for p3\n",
        "svm.predict([p3])\n",
        "#correct"
      ]
    },
    {
      "cell_type": "markdown",
      "id": "4aeb9be2",
      "metadata": {
        "id": "4aeb9be2"
      },
      "source": [
        "### Logistic Regression prediction"
      ]
    },
    {
      "cell_type": "code",
      "execution_count": null,
      "id": "76f20ec9",
      "metadata": {
        "id": "76f20ec9",
        "outputId": "56afa6d1-7100-4f0d-b838-6f06d774b03e"
      },
      "outputs": [
        {
          "name": "stderr",
          "output_type": "stream",
          "text": [
            "/Users/bellamolau/anaconda3/lib/python3.11/site-packages/sklearn/base.py:464: UserWarning: X does not have valid feature names, but LogisticRegression was fitted with feature names\n",
            "  warnings.warn(\n"
          ]
        },
        {
          "data": {
            "text/plain": [
              "array(['0'], dtype=object)"
            ]
          },
          "execution_count": 344,
          "metadata": {},
          "output_type": "execute_result"
        }
      ],
      "source": [
        "logreg.predict([p1])\n",
        "#correct"
      ]
    },
    {
      "cell_type": "code",
      "execution_count": null,
      "id": "a574a925",
      "metadata": {
        "id": "a574a925",
        "outputId": "1eea554a-e9d9-47c7-e4a8-cc5ebf81d0f2"
      },
      "outputs": [
        {
          "name": "stderr",
          "output_type": "stream",
          "text": [
            "/Users/bellamolau/anaconda3/lib/python3.11/site-packages/sklearn/base.py:464: UserWarning: X does not have valid feature names, but LogisticRegression was fitted with feature names\n",
            "  warnings.warn(\n"
          ]
        },
        {
          "data": {
            "text/plain": [
              "array(['1'], dtype=object)"
            ]
          },
          "execution_count": 345,
          "metadata": {},
          "output_type": "execute_result"
        }
      ],
      "source": [
        "logreg.predict([p2])\n",
        "#correct"
      ]
    },
    {
      "cell_type": "code",
      "execution_count": null,
      "id": "047f628d",
      "metadata": {
        "id": "047f628d",
        "outputId": "d2b1bec5-b035-4f3d-fab7-11c514ad774d"
      },
      "outputs": [
        {
          "name": "stderr",
          "output_type": "stream",
          "text": [
            "/Users/bellamolau/anaconda3/lib/python3.11/site-packages/sklearn/base.py:464: UserWarning: X does not have valid feature names, but LogisticRegression was fitted with feature names\n",
            "  warnings.warn(\n"
          ]
        },
        {
          "data": {
            "text/plain": [
              "array(['0'], dtype=object)"
            ]
          },
          "execution_count": 346,
          "metadata": {},
          "output_type": "execute_result"
        }
      ],
      "source": [
        "# prediction for p3\n",
        "logreg.predict([p3])\n",
        "#correct"
      ]
    },
    {
      "cell_type": "markdown",
      "id": "d6174442",
      "metadata": {
        "id": "d6174442"
      },
      "source": [
        "### Decision Tree prediction"
      ]
    },
    {
      "cell_type": "code",
      "execution_count": null,
      "id": "110c811d",
      "metadata": {
        "id": "110c811d",
        "outputId": "ae7f7ff6-c70d-40d2-c41d-00dd27d7b414"
      },
      "outputs": [
        {
          "name": "stderr",
          "output_type": "stream",
          "text": [
            "/Users/bellamolau/anaconda3/lib/python3.11/site-packages/sklearn/base.py:464: UserWarning: X does not have valid feature names, but DecisionTreeClassifier was fitted with feature names\n",
            "  warnings.warn(\n"
          ]
        },
        {
          "data": {
            "text/plain": [
              "array(['1'], dtype=object)"
            ]
          },
          "execution_count": 347,
          "metadata": {},
          "output_type": "execute_result"
        }
      ],
      "source": [
        "dt.predict([p1])\n",
        "#incorrect"
      ]
    },
    {
      "cell_type": "code",
      "execution_count": null,
      "id": "7f3d83ec",
      "metadata": {
        "id": "7f3d83ec",
        "outputId": "75100e8a-8266-4dd9-8fda-a250bd2d2481"
      },
      "outputs": [
        {
          "name": "stderr",
          "output_type": "stream",
          "text": [
            "/Users/bellamolau/anaconda3/lib/python3.11/site-packages/sklearn/base.py:464: UserWarning: X does not have valid feature names, but DecisionTreeClassifier was fitted with feature names\n",
            "  warnings.warn(\n"
          ]
        },
        {
          "data": {
            "text/plain": [
              "array(['1'], dtype=object)"
            ]
          },
          "execution_count": 348,
          "metadata": {},
          "output_type": "execute_result"
        }
      ],
      "source": [
        "dt.predict([p2])\n",
        "#correct"
      ]
    },
    {
      "cell_type": "code",
      "execution_count": null,
      "id": "e58b67ba",
      "metadata": {
        "id": "e58b67ba",
        "outputId": "edd58079-7d83-4e77-fa97-2db07daadab7"
      },
      "outputs": [
        {
          "name": "stderr",
          "output_type": "stream",
          "text": [
            "/Users/bellamolau/anaconda3/lib/python3.11/site-packages/sklearn/base.py:464: UserWarning: X does not have valid feature names, but DecisionTreeClassifier was fitted with feature names\n",
            "  warnings.warn(\n"
          ]
        },
        {
          "data": {
            "text/plain": [
              "array(['0'], dtype=object)"
            ]
          },
          "execution_count": 349,
          "metadata": {},
          "output_type": "execute_result"
        }
      ],
      "source": [
        "# prediction for p3\n",
        "dt.predict([p3])\n",
        "#correct"
      ]
    },
    {
      "cell_type": "code",
      "execution_count": null,
      "id": "8f14455e",
      "metadata": {
        "id": "8f14455e"
      },
      "outputs": [],
      "source": []
    }
  ],
  "metadata": {
    "kernelspec": {
      "display_name": "Python 3 (ipykernel)",
      "language": "python",
      "name": "python3"
    },
    "language_info": {
      "codemirror_mode": {
        "name": "ipython",
        "version": 3
      },
      "file_extension": ".py",
      "mimetype": "text/x-python",
      "name": "python",
      "nbconvert_exporter": "python",
      "pygments_lexer": "ipython3",
      "version": "3.11.4"
    },
    "toc": {
      "base_numbering": 1,
      "nav_menu": {},
      "number_sections": true,
      "sideBar": true,
      "skip_h1_title": false,
      "title_cell": "Table of Contents",
      "title_sidebar": "Contents",
      "toc_cell": false,
      "toc_position": {},
      "toc_section_display": true,
      "toc_window_display": false
    },
    "colab": {
      "provenance": []
    }
  },
  "nbformat": 4,
  "nbformat_minor": 5
}